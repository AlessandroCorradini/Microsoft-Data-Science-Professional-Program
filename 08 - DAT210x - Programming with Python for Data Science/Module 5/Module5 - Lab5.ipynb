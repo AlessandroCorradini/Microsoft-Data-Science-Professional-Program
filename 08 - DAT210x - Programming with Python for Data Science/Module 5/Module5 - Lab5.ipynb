{
 "cells": [
  {
   "cell_type": "markdown",
   "metadata": {},
   "source": [
    "# DAT210x - Programming with Python for DS"
   ]
  },
  {
   "cell_type": "markdown",
   "metadata": {},
   "source": [
    "## Module5- Lab5"
   ]
  },
  {
   "cell_type": "code",
   "execution_count": 1,
   "metadata": {},
   "outputs": [],
   "source": [
    "import numpy as np\n",
    "import pandas as pd\n",
    "import matplotlib.pyplot as plt\n",
    "import matplotlib\n",
    "\n",
    "matplotlib.style.use('ggplot') # Look Pretty"
   ]
  },
  {
   "cell_type": "markdown",
   "metadata": {},
   "source": [
    "### A Convenience Function"
   ]
  },
  {
   "cell_type": "code",
   "execution_count": 2,
   "metadata": {},
   "outputs": [],
   "source": [
    "def plotDecisionBoundary(model, X, y):\n",
    "    fig = plt.figure()\n",
    "    ax = fig.add_subplot(111)\n",
    "\n",
    "    padding = 0.6\n",
    "    resolution = 0.0025\n",
    "    colors = ['royalblue','forestgreen','ghostwhite']\n",
    "\n",
    "    # Calculate the boundaris\n",
    "    x_min, x_max = X[:, 0].min(), X[:, 0].max()\n",
    "    y_min, y_max = X[:, 1].min(), X[:, 1].max()\n",
    "    x_range = x_max - x_min\n",
    "    y_range = y_max - y_min\n",
    "    x_min -= x_range * padding\n",
    "    y_min -= y_range * padding\n",
    "    x_max += x_range * padding\n",
    "    y_max += y_range * padding\n",
    "\n",
    "    # Create a 2D Grid Matrix. The values stored in the matrix\n",
    "    # are the predictions of the class at at said location\n",
    "    xx, yy = np.meshgrid(np.arange(x_min, x_max, resolution),\n",
    "                       np.arange(y_min, y_max, resolution))\n",
    "\n",
    "    # What class does the classifier say?\n",
    "    Z = model.predict(np.c_[xx.ravel(), yy.ravel()])\n",
    "    Z = Z.reshape(xx.shape)\n",
    "\n",
    "    # Plot the contour map\n",
    "    cs = plt.contourf(xx, yy, Z, cmap=plt.cm.terrain)\n",
    "\n",
    "    # Plot the test original points as well...\n",
    "    for label in range(len(np.unique(y))):\n",
    "        indices = np.where(y == label)\n",
    "        plt.scatter(X[indices, 0], X[indices, 1], c=colors[label], label=str(label), alpha=0.8)\n",
    "\n",
    "    p = model.get_params()\n",
    "    plt.axis('tight')\n",
    "    plt.title('K = ' + str(p['n_neighbors']))"
   ]
  },
  {
   "cell_type": "markdown",
   "metadata": {
    "collapsed": true
   },
   "source": [
    "### The Assignment"
   ]
  },
  {
   "cell_type": "markdown",
   "metadata": {
    "collapsed": true
   },
   "source": [
    "Load up the dataset into a variable called `X`. Check `.head` and `dtypes` to make sure you're loading your data properly--don't fail on the 1st step!"
   ]
  },
  {
   "cell_type": "code",
   "execution_count": 3,
   "metadata": {},
   "outputs": [
    {
     "data": {
      "text/html": [
       "<div>\n",
       "<style scoped>\n",
       "    .dataframe tbody tr th:only-of-type {\n",
       "        vertical-align: middle;\n",
       "    }\n",
       "\n",
       "    .dataframe tbody tr th {\n",
       "        vertical-align: top;\n",
       "    }\n",
       "\n",
       "    .dataframe thead th {\n",
       "        text-align: right;\n",
       "    }\n",
       "</style>\n",
       "<table border=\"1\" class=\"dataframe\">\n",
       "  <thead>\n",
       "    <tr style=\"text-align: right;\">\n",
       "      <th></th>\n",
       "      <th>area</th>\n",
       "      <th>perimeter</th>\n",
       "      <th>compactness</th>\n",
       "      <th>length</th>\n",
       "      <th>width</th>\n",
       "      <th>asymmetry</th>\n",
       "      <th>groove</th>\n",
       "      <th>wheat_type</th>\n",
       "    </tr>\n",
       "    <tr>\n",
       "      <th>id</th>\n",
       "      <th></th>\n",
       "      <th></th>\n",
       "      <th></th>\n",
       "      <th></th>\n",
       "      <th></th>\n",
       "      <th></th>\n",
       "      <th></th>\n",
       "      <th></th>\n",
       "    </tr>\n",
       "  </thead>\n",
       "  <tbody>\n",
       "    <tr>\n",
       "      <th>0</th>\n",
       "      <td>15.26</td>\n",
       "      <td>14.84</td>\n",
       "      <td>0.8710</td>\n",
       "      <td>5.763</td>\n",
       "      <td>3.312</td>\n",
       "      <td>2.221</td>\n",
       "      <td>5.220</td>\n",
       "      <td>kama</td>\n",
       "    </tr>\n",
       "    <tr>\n",
       "      <th>1</th>\n",
       "      <td>14.88</td>\n",
       "      <td>14.57</td>\n",
       "      <td>0.8811</td>\n",
       "      <td>5.554</td>\n",
       "      <td>3.333</td>\n",
       "      <td>1.018</td>\n",
       "      <td>4.956</td>\n",
       "      <td>kama</td>\n",
       "    </tr>\n",
       "    <tr>\n",
       "      <th>2</th>\n",
       "      <td>14.29</td>\n",
       "      <td>14.09</td>\n",
       "      <td>0.9050</td>\n",
       "      <td>5.291</td>\n",
       "      <td>3.337</td>\n",
       "      <td>2.699</td>\n",
       "      <td>4.825</td>\n",
       "      <td>kama</td>\n",
       "    </tr>\n",
       "    <tr>\n",
       "      <th>3</th>\n",
       "      <td>13.84</td>\n",
       "      <td>13.94</td>\n",
       "      <td>0.8955</td>\n",
       "      <td>5.324</td>\n",
       "      <td>3.379</td>\n",
       "      <td>2.259</td>\n",
       "      <td>4.805</td>\n",
       "      <td>kama</td>\n",
       "    </tr>\n",
       "    <tr>\n",
       "      <th>4</th>\n",
       "      <td>16.14</td>\n",
       "      <td>14.99</td>\n",
       "      <td>0.9034</td>\n",
       "      <td>5.658</td>\n",
       "      <td>3.562</td>\n",
       "      <td>1.355</td>\n",
       "      <td>5.175</td>\n",
       "      <td>kama</td>\n",
       "    </tr>\n",
       "  </tbody>\n",
       "</table>\n",
       "</div>"
      ],
      "text/plain": [
       "     area  perimeter  compactness  length  width  asymmetry  groove wheat_type\n",
       "id                                                                            \n",
       "0   15.26      14.84       0.8710   5.763  3.312      2.221   5.220       kama\n",
       "1   14.88      14.57       0.8811   5.554  3.333      1.018   4.956       kama\n",
       "2   14.29      14.09       0.9050   5.291  3.337      2.699   4.825       kama\n",
       "3   13.84      13.94       0.8955   5.324  3.379      2.259   4.805       kama\n",
       "4   16.14      14.99       0.9034   5.658  3.562      1.355   5.175       kama"
      ]
     },
     "execution_count": 3,
     "metadata": {},
     "output_type": "execute_result"
    }
   ],
   "source": [
    "X = pd.read_csv('Datasets/wheat.data', index_col='id')\n",
    "X.head()"
   ]
  },
  {
   "cell_type": "code",
   "execution_count": 4,
   "metadata": {},
   "outputs": [
    {
     "data": {
      "text/plain": [
       "area           float64\n",
       "perimeter      float64\n",
       "compactness    float64\n",
       "length         float64\n",
       "width          float64\n",
       "asymmetry      float64\n",
       "groove         float64\n",
       "wheat_type      object\n",
       "dtype: object"
      ]
     },
     "execution_count": 4,
     "metadata": {},
     "output_type": "execute_result"
    }
   ],
   "source": [
    "X.dtypes"
   ]
  },
  {
   "cell_type": "markdown",
   "metadata": {},
   "source": [
    "Copy the `wheat_type` series slice out of `X`, and into a series called `y`. Then drop the original `wheat_type` column from the `X`:"
   ]
  },
  {
   "cell_type": "code",
   "execution_count": 5,
   "metadata": {},
   "outputs": [],
   "source": [
    "y = X.wheat_type.copy()\n",
    "X.drop(columns='wheat_type', inplace=True)"
   ]
  },
  {
   "cell_type": "code",
   "execution_count": 6,
   "metadata": {},
   "outputs": [
    {
     "data": {
      "text/html": [
       "<div>\n",
       "<style scoped>\n",
       "    .dataframe tbody tr th:only-of-type {\n",
       "        vertical-align: middle;\n",
       "    }\n",
       "\n",
       "    .dataframe tbody tr th {\n",
       "        vertical-align: top;\n",
       "    }\n",
       "\n",
       "    .dataframe thead th {\n",
       "        text-align: right;\n",
       "    }\n",
       "</style>\n",
       "<table border=\"1\" class=\"dataframe\">\n",
       "  <thead>\n",
       "    <tr style=\"text-align: right;\">\n",
       "      <th></th>\n",
       "      <th>area</th>\n",
       "      <th>perimeter</th>\n",
       "      <th>compactness</th>\n",
       "      <th>length</th>\n",
       "      <th>width</th>\n",
       "      <th>asymmetry</th>\n",
       "      <th>groove</th>\n",
       "    </tr>\n",
       "    <tr>\n",
       "      <th>id</th>\n",
       "      <th></th>\n",
       "      <th></th>\n",
       "      <th></th>\n",
       "      <th></th>\n",
       "      <th></th>\n",
       "      <th></th>\n",
       "      <th></th>\n",
       "    </tr>\n",
       "  </thead>\n",
       "  <tbody>\n",
       "    <tr>\n",
       "      <th>0</th>\n",
       "      <td>15.26</td>\n",
       "      <td>14.84</td>\n",
       "      <td>0.8710</td>\n",
       "      <td>5.763</td>\n",
       "      <td>3.312</td>\n",
       "      <td>2.221</td>\n",
       "      <td>5.220</td>\n",
       "    </tr>\n",
       "    <tr>\n",
       "      <th>1</th>\n",
       "      <td>14.88</td>\n",
       "      <td>14.57</td>\n",
       "      <td>0.8811</td>\n",
       "      <td>5.554</td>\n",
       "      <td>3.333</td>\n",
       "      <td>1.018</td>\n",
       "      <td>4.956</td>\n",
       "    </tr>\n",
       "    <tr>\n",
       "      <th>2</th>\n",
       "      <td>14.29</td>\n",
       "      <td>14.09</td>\n",
       "      <td>0.9050</td>\n",
       "      <td>5.291</td>\n",
       "      <td>3.337</td>\n",
       "      <td>2.699</td>\n",
       "      <td>4.825</td>\n",
       "    </tr>\n",
       "    <tr>\n",
       "      <th>3</th>\n",
       "      <td>13.84</td>\n",
       "      <td>13.94</td>\n",
       "      <td>0.8955</td>\n",
       "      <td>5.324</td>\n",
       "      <td>3.379</td>\n",
       "      <td>2.259</td>\n",
       "      <td>4.805</td>\n",
       "    </tr>\n",
       "    <tr>\n",
       "      <th>4</th>\n",
       "      <td>16.14</td>\n",
       "      <td>14.99</td>\n",
       "      <td>0.9034</td>\n",
       "      <td>5.658</td>\n",
       "      <td>3.562</td>\n",
       "      <td>1.355</td>\n",
       "      <td>5.175</td>\n",
       "    </tr>\n",
       "  </tbody>\n",
       "</table>\n",
       "</div>"
      ],
      "text/plain": [
       "     area  perimeter  compactness  length  width  asymmetry  groove\n",
       "id                                                                 \n",
       "0   15.26      14.84       0.8710   5.763  3.312      2.221   5.220\n",
       "1   14.88      14.57       0.8811   5.554  3.333      1.018   4.956\n",
       "2   14.29      14.09       0.9050   5.291  3.337      2.699   4.825\n",
       "3   13.84      13.94       0.8955   5.324  3.379      2.259   4.805\n",
       "4   16.14      14.99       0.9034   5.658  3.562      1.355   5.175"
      ]
     },
     "execution_count": 6,
     "metadata": {},
     "output_type": "execute_result"
    }
   ],
   "source": [
    "X.head()"
   ]
  },
  {
   "cell_type": "code",
   "execution_count": 7,
   "metadata": {},
   "outputs": [
    {
     "data": {
      "text/plain": [
       "id\n",
       "0    kama\n",
       "1    kama\n",
       "2    kama\n",
       "3    kama\n",
       "4    kama\n",
       "Name: wheat_type, dtype: object"
      ]
     },
     "execution_count": 7,
     "metadata": {},
     "output_type": "execute_result"
    }
   ],
   "source": [
    "y.head()"
   ]
  },
  {
   "cell_type": "markdown",
   "metadata": {},
   "source": [
    "Do a quick, \"ordinal\" conversion of `y`. In actuality our classification isn't ordinal, but just as an experiment..."
   ]
  },
  {
   "cell_type": "code",
   "execution_count": 8,
   "metadata": {},
   "outputs": [],
   "source": [
    "y = y.astype(pd.api.types.CategoricalDtype(ordered=True)).cat.codes"
   ]
  },
  {
   "cell_type": "code",
   "execution_count": 9,
   "metadata": {},
   "outputs": [
    {
     "data": {
      "text/plain": [
       "array([1, 0, 2])"
      ]
     },
     "execution_count": 9,
     "metadata": {},
     "output_type": "execute_result"
    }
   ],
   "source": [
    "y.unique()"
   ]
  },
  {
   "cell_type": "markdown",
   "metadata": {},
   "source": [
    "Do some basic nan munging. Fill each row's nans with the mean of the feature:"
   ]
  },
  {
   "cell_type": "code",
   "execution_count": 10,
   "metadata": {},
   "outputs": [
    {
     "data": {
      "text/plain": [
       "area           0\n",
       "perimeter      0\n",
       "compactness    3\n",
       "length         0\n",
       "width          1\n",
       "asymmetry      0\n",
       "groove         4\n",
       "dtype: int64"
      ]
     },
     "execution_count": 10,
     "metadata": {},
     "output_type": "execute_result"
    }
   ],
   "source": [
    "X.isnull().sum()"
   ]
  },
  {
   "cell_type": "code",
   "execution_count": 11,
   "metadata": {},
   "outputs": [
    {
     "data": {
      "text/plain": [
       "5.407529126213593"
      ]
     },
     "execution_count": 11,
     "metadata": {},
     "output_type": "execute_result"
    }
   ],
   "source": [
    "X.groove.mean()"
   ]
  },
  {
   "cell_type": "code",
   "execution_count": 12,
   "metadata": {},
   "outputs": [
    {
     "data": {
      "text/html": [
       "<div>\n",
       "<style scoped>\n",
       "    .dataframe tbody tr th:only-of-type {\n",
       "        vertical-align: middle;\n",
       "    }\n",
       "\n",
       "    .dataframe tbody tr th {\n",
       "        vertical-align: top;\n",
       "    }\n",
       "\n",
       "    .dataframe thead th {\n",
       "        text-align: right;\n",
       "    }\n",
       "</style>\n",
       "<table border=\"1\" class=\"dataframe\">\n",
       "  <thead>\n",
       "    <tr style=\"text-align: right;\">\n",
       "      <th></th>\n",
       "      <th>area</th>\n",
       "      <th>perimeter</th>\n",
       "      <th>compactness</th>\n",
       "      <th>length</th>\n",
       "      <th>width</th>\n",
       "      <th>asymmetry</th>\n",
       "      <th>groove</th>\n",
       "    </tr>\n",
       "    <tr>\n",
       "      <th>id</th>\n",
       "      <th></th>\n",
       "      <th></th>\n",
       "      <th></th>\n",
       "      <th></th>\n",
       "      <th></th>\n",
       "      <th></th>\n",
       "      <th></th>\n",
       "    </tr>\n",
       "  </thead>\n",
       "  <tbody>\n",
       "    <tr>\n",
       "      <th>7</th>\n",
       "      <td>14.11</td>\n",
       "      <td>14.10</td>\n",
       "      <td>0.8911</td>\n",
       "      <td>5.420</td>\n",
       "      <td>3.302</td>\n",
       "      <td>2.7</td>\n",
       "      <td>NaN</td>\n",
       "    </tr>\n",
       "    <tr>\n",
       "      <th>60</th>\n",
       "      <td>11.42</td>\n",
       "      <td>12.86</td>\n",
       "      <td>0.8683</td>\n",
       "      <td>5.008</td>\n",
       "      <td>2.850</td>\n",
       "      <td>2.7</td>\n",
       "      <td>NaN</td>\n",
       "    </tr>\n",
       "    <tr>\n",
       "      <th>135</th>\n",
       "      <td>15.38</td>\n",
       "      <td>14.66</td>\n",
       "      <td>0.8990</td>\n",
       "      <td>5.477</td>\n",
       "      <td>3.465</td>\n",
       "      <td>3.6</td>\n",
       "      <td>NaN</td>\n",
       "    </tr>\n",
       "    <tr>\n",
       "      <th>201</th>\n",
       "      <td>12.67</td>\n",
       "      <td>13.32</td>\n",
       "      <td>0.8977</td>\n",
       "      <td>4.984</td>\n",
       "      <td>3.135</td>\n",
       "      <td>2.3</td>\n",
       "      <td>NaN</td>\n",
       "    </tr>\n",
       "  </tbody>\n",
       "</table>\n",
       "</div>"
      ],
      "text/plain": [
       "      area  perimeter  compactness  length  width  asymmetry  groove\n",
       "id                                                                  \n",
       "7    14.11      14.10       0.8911   5.420  3.302        2.7     NaN\n",
       "60   11.42      12.86       0.8683   5.008  2.850        2.7     NaN\n",
       "135  15.38      14.66       0.8990   5.477  3.465        3.6     NaN\n",
       "201  12.67      13.32       0.8977   4.984  3.135        2.3     NaN"
      ]
     },
     "execution_count": 12,
     "metadata": {},
     "output_type": "execute_result"
    }
   ],
   "source": [
    "X[X.groove.isnull() == True]"
   ]
  },
  {
   "cell_type": "code",
   "execution_count": 13,
   "metadata": {},
   "outputs": [
    {
     "data": {
      "text/plain": [
       "area           15.380000\n",
       "perimeter      14.660000\n",
       "compactness     0.899000\n",
       "length          5.477000\n",
       "width           3.465000\n",
       "asymmetry       3.600000\n",
       "groove          5.407529\n",
       "Name: 135, dtype: float64"
      ]
     },
     "execution_count": 13,
     "metadata": {},
     "output_type": "execute_result"
    }
   ],
   "source": [
    "a = X.fillna(X.groove.mean(axis=0), axis=0)\n",
    "a.iloc[135]"
   ]
  },
  {
   "cell_type": "code",
   "execution_count": 14,
   "metadata": {},
   "outputs": [],
   "source": [
    "for column in X.columns:\n",
    "    X.fillna(X[column].mean(axis=0), axis=0, inplace=True)\n",
    "    #print(type(column))"
   ]
  },
  {
   "cell_type": "code",
   "execution_count": 15,
   "metadata": {},
   "outputs": [
    {
     "data": {
      "text/plain": [
       "area           0\n",
       "perimeter      0\n",
       "compactness    0\n",
       "length         0\n",
       "width          0\n",
       "asymmetry      0\n",
       "groove         0\n",
       "dtype: int64"
      ]
     },
     "execution_count": 15,
     "metadata": {},
     "output_type": "execute_result"
    }
   ],
   "source": [
    "X.isnull().sum()"
   ]
  },
  {
   "cell_type": "markdown",
   "metadata": {},
   "source": [
    "Split `X` into training and testing data sets using `train_test_split()`. Use `0.33` test size, and use `random_state=1`. This is important so that your answers are verifiable. In the real world, you wouldn't specify a random_state:"
   ]
  },
  {
   "cell_type": "code",
   "execution_count": 16,
   "metadata": {},
   "outputs": [],
   "source": [
    "from sklearn.model_selection import train_test_split"
   ]
  },
  {
   "cell_type": "code",
   "execution_count": 17,
   "metadata": {},
   "outputs": [],
   "source": [
    "X_train, X_test, y_train, y_test = train_test_split(X, y, test_size=0.33, random_state=1)"
   ]
  },
  {
   "cell_type": "markdown",
   "metadata": {},
   "source": [
    "Create an instance of SKLearn's Normalizer class and then train it using its .fit() method against your _training_ data. The reason you only fit against your training data is because in a real-world situation, you'll only have your training data to train with! In this lab setting, you have both train+test data; but in the wild, you'll only have your training data, and then unlabeled data you want to apply your models to."
   ]
  },
  {
   "cell_type": "code",
   "execution_count": 18,
   "metadata": {},
   "outputs": [],
   "source": [
    "from sklearn.preprocessing import Normalizer"
   ]
  },
  {
   "cell_type": "code",
   "execution_count": 19,
   "metadata": {},
   "outputs": [
    {
     "data": {
      "text/plain": [
       "array([[0.61015391, 0.65753976, 0.04229554, 0.25730029, 0.14494209,\n",
       "        0.21597201, 0.24435467],\n",
       "       [0.69052897, 0.601205  , 0.03190142, 0.23497673, 0.13267344,\n",
       "        0.18462717, 0.23195065],\n",
       "       [0.70423697, 0.60494507, 0.03269278, 0.22965848, 0.14029577,\n",
       "        0.11341341, 0.22745199],\n",
       "       [0.63972592, 0.65868437, 0.043794  , 0.24976533, 0.15560507,\n",
       "        0.11963264, 0.23250829],\n",
       "       [0.67803761, 0.63741585, 0.03914382, 0.23884728, 0.15185622,\n",
       "        0.0691002 , 0.21806104],\n",
       "       [0.65627803, 0.64851953, 0.0408508 , 0.24580761, 0.15115388,\n",
       "        0.11236137, 0.22618317],\n",
       "       [0.58390096, 0.67076651, 0.04308326, 0.26599362, 0.14160626,\n",
       "        0.20806612, 0.27051679],\n",
       "       [0.57029392, 0.64682687, 0.04174749, 0.25512629, 0.140475  ,\n",
       "        0.33156049, 0.24470794],\n",
       "       [0.65790937, 0.64589885, 0.0392299 , 0.24666041, 0.14639484,\n",
       "        0.12028309, 0.22735462],\n",
       "       [0.47406244, 0.54829286, 0.62621471, 0.03525523, 0.21467774,\n",
       "        0.11450885, 0.14850301],\n",
       "       [0.65248354, 0.65384857, 0.03970412, 0.25617032, 0.14514801,\n",
       "        0.05974274, 0.23432986],\n",
       "       [0.59573517, 0.64936109, 0.04217922, 0.25467435, 0.14464372,\n",
       "        0.2666183 , 0.2545281 ],\n",
       "       [0.64956658, 0.65314546, 0.03828059, 0.25682932, 0.13926314,\n",
       "        0.066254  , 0.24546638],\n",
       "       [0.69961009, 0.61077656, 0.03202062, 0.23771262, 0.13092808,\n",
       "        0.07902866, 0.23786006],\n",
       "       [0.71086178, 0.59977854, 0.03127011, 0.23043562, 0.13688437,\n",
       "        0.10870542, 0.22429588],\n",
       "       [0.56898926, 0.66677589, 0.04646477, 0.26321798, 0.1497425 ,\n",
       "        0.26730137, 0.25757644],\n",
       "       [0.68998303, 0.59570886, 0.0336492 , 0.22406819, 0.14326705,\n",
       "        0.22273202, 0.21812966],\n",
       "       [0.57194383, 0.66567906, 0.04549072, 0.26378261, 0.14939385,\n",
       "        0.2527674 , 0.26812515],\n",
       "       [0.70092097, 0.60861389, 0.03488518, 0.22900582, 0.14382285,\n",
       "        0.1086619 , 0.22835469],\n",
       "       [0.64176783, 0.6477743 , 0.04102879, 0.25130131, 0.14780528,\n",
       "        0.1841675 , 0.2189126 ],\n",
       "       [0.66056084, 0.63981246, 0.03633085, 0.24694813, 0.13914121,\n",
       "        0.11538643, 0.24356064],\n",
       "       [0.70637761, 0.59939364, 0.0310041 , 0.23646292, 0.13330486,\n",
       "        0.11520261, 0.23203477],\n",
       "       [0.65102601, 0.63070791, 0.03685197, 0.24906613, 0.13833245,\n",
       "        0.18887374, 0.24529881],\n",
       "       [0.60808643, 0.65750859, 0.04146616, 0.25840039, 0.14380881,\n",
       "        0.21411426, 0.25079325],\n",
       "       [0.61506768, 0.66398251, 0.04112236, 0.26084681, 0.14098126,\n",
       "        0.15788352, 0.25745668],\n",
       "       [0.69418303, 0.60036449, 0.03328889, 0.22271706, 0.14302692,\n",
       "        0.19742684, 0.21800759],\n",
       "       [0.58903277, 0.67016966, 0.0457317 , 0.26390565, 0.14804849,\n",
       "        0.21343218, 0.25436943],\n",
       "       [0.58617602, 0.65762409, 0.04314557, 0.25701177, 0.14339928,\n",
       "        0.26209364, 0.25837029],\n",
       "       [0.64118006, 0.65420839, 0.04075541, 0.25493654, 0.14684791,\n",
       "        0.14591732, 0.22669298],\n",
       "       [0.58299687, 0.66395494, 0.04046916, 0.26721101, 0.13407447,\n",
       "        0.2417882 , 0.26419977],\n",
       "       [0.70819508, 0.59214925, 0.03118162, 0.22034684, 0.1354686 ,\n",
       "        0.18136105, 0.21691104],\n",
       "       [0.57513872, 0.659896  , 0.04225252, 0.25911513, 0.13939546,\n",
       "        0.28191887, 0.25674394],\n",
       "       [0.57609803, 0.67589869, 0.044208  , 0.26866973, 0.14125227,\n",
       "        0.22067036, 0.26169952],\n",
       "       [0.6474982 , 0.65875904, 0.04126159, 0.25224278, 0.1480331 ,\n",
       "        0.07319545, 0.23277091],\n",
       "       [0.71554737, 0.58861193, 0.03022906, 0.22394551, 0.13618262,\n",
       "        0.15959061, 0.21551727],\n",
       "       [0.70064752, 0.60749574, 0.0318433 , 0.23266027, 0.13446734,\n",
       "        0.12263158, 0.22754606],\n",
       "       [0.67218508, 0.63359667, 0.0362399 , 0.24173767, 0.14373143,\n",
       "        0.11713447, 0.22933129],\n",
       "       [0.45270086, 0.53403913, 0.60993528, 0.03364036, 0.21875064,\n",
       "        0.1109569 , 0.27667335],\n",
       "       [0.61701481, 0.64931168, 0.04270899, 0.24873409, 0.15068658,\n",
       "        0.23489947, 0.23687584],\n",
       "       [0.59371288, 0.66072114, 0.04146629, 0.25950919, 0.14027391,\n",
       "        0.24576264, 0.24862035],\n",
       "       [0.70258846, 0.6036533 , 0.03350406, 0.231605  , 0.14018295,\n",
       "        0.13534777, 0.22189745],\n",
       "       [0.58765173, 0.67055912, 0.04465006, 0.26546007, 0.146209  ,\n",
       "        0.2077899 , 0.2607672 ],\n",
       "       [0.59378277, 0.6144752 , 0.03995888, 0.23553383, 0.14538681,\n",
       "        0.37403816, 0.22743679],\n",
       "       [0.6772774 , 0.63068546, 0.03839176, 0.22715689, 0.1517203 ,\n",
       "        0.14130065, 0.21788086],\n",
       "       [0.59915141, 0.65665815, 0.04216669, 0.25755155, 0.14298043,\n",
       "        0.2387267 , 0.25352116],\n",
       "       [0.66776136, 0.62196974, 0.03439548, 0.23600606, 0.13689705,\n",
       "        0.19590852, 0.23074998],\n",
       "       [0.6452614 , 0.65212102, 0.03988639, 0.25243394, 0.14487513,\n",
       "        0.12292435, 0.23866898],\n",
       "       [0.7020453 , 0.60624381, 0.03362034, 0.23097141, 0.14205565,\n",
       "        0.11675807, 0.22651813],\n",
       "       [0.59666956, 0.66169761, 0.04220866, 0.26557256, 0.13948764,\n",
       "        0.21201129, 0.26348769],\n",
       "       [0.65688362, 0.64769001, 0.0416011 , 0.24321702, 0.15339543,\n",
       "        0.1240678 , 0.2217959 ],\n",
       "       [0.68045863, 0.61677418, 0.03347486, 0.23895175, 0.13744261,\n",
       "        0.15731987, 0.23389559],\n",
       "       [0.69589293, 0.61285809, 0.03378528, 0.23512573, 0.13906432,\n",
       "        0.09305235, 0.23603987],\n",
       "       [0.57443297, 0.66092288, 0.04131018, 0.26516906, 0.13473428,\n",
       "        0.26936857, 0.26546902],\n",
       "       [0.65163777, 0.64276591, 0.03903173, 0.24677065, 0.14456688,\n",
       "        0.15907236, 0.23151106],\n",
       "       [0.57358335, 0.66272819, 0.04256029, 0.26417436, 0.13804715,\n",
       "        0.2717644 , 0.25938601],\n",
       "       [0.70462916, 0.58869956, 0.03097374, 0.21984848, 0.13793186,\n",
       "        0.20543561, 0.21542714],\n",
       "       [0.66271789, 0.64447795, 0.03782617, 0.25027806, 0.14383497,\n",
       "        0.09645455, 0.22669642],\n",
       "       [0.5658165 , 0.64962235, 0.0434673 , 0.25451584, 0.14191125,\n",
       "        0.32445564, 0.25644592],\n",
       "       [0.712108  , 0.5924491 , 0.03013135, 0.22621721, 0.1311434 ,\n",
       "        0.15304648, 0.22181597],\n",
       "       [0.6864579 , 0.59571921, 0.03128153, 0.22447962, 0.13402786,\n",
       "        0.23965056, 0.21709141],\n",
       "       [0.63468563, 0.66523727, 0.0437529 , 0.25323365, 0.15369445,\n",
       "        0.11589911, 0.22701838],\n",
       "       [0.66922398, 0.64308241, 0.03860673, 0.2483884 , 0.14783053,\n",
       "        0.05955919, 0.22359749],\n",
       "       [0.6740142 , 0.62151963, 0.03520742, 0.24111435, 0.13969165,\n",
       "        0.16044904, 0.23406165],\n",
       "       [0.7009749 , 0.60706439, 0.03318917, 0.23373283, 0.13762362,\n",
       "        0.12063029, 0.22557156],\n",
       "       [0.59498898, 0.66002041, 0.04044081, 0.26245517, 0.13748807,\n",
       "        0.23081302, 0.26012569],\n",
       "       [0.69271011, 0.60803743, 0.03135079, 0.23901784, 0.13394342,\n",
       "        0.13470985, 0.2371565 ],\n",
       "       [0.51761105, 0.54416568, 0.03667399, 0.20361274, 0.12807503,\n",
       "        0.09396254, 0.60657004],\n",
       "       [0.65295763, 0.63541421, 0.03720917, 0.24449541, 0.13872141,\n",
       "        0.19438968, 0.22737987],\n",
       "       [0.63446322, 0.6488726 , 0.03840551, 0.25743266, 0.14346344,\n",
       "        0.17651496, 0.2386104 ],\n",
       "       [0.68136666, 0.61856789, 0.03448045, 0.24118653, 0.14027675,\n",
       "        0.13839279, 0.23435716],\n",
       "       [0.7096526 , 0.60703038, 0.03183465, 0.23149832, 0.13678128,\n",
       "        0.05337806, 0.22747321],\n",
       "       [0.61649401, 0.66999143, 0.04480026, 0.26009933, 0.14984371,\n",
       "        0.11214077, 0.25760279],\n",
       "       [0.67155876, 0.62408721, 0.036283  , 0.23400201, 0.14425622,\n",
       "        0.17257546, 0.22990964],\n",
       "       [0.69880929, 0.60302583, 0.03353912, 0.22775592, 0.14419697,\n",
       "        0.15608604, 0.22332081],\n",
       "       [0.61730463, 0.67607121, 0.04427423, 0.26056592, 0.15003364,\n",
       "        0.07230845, 0.25351393],\n",
       "       [0.69178514, 0.60869674, 0.03226352, 0.23312974, 0.13331237,\n",
       "        0.16287553, 0.22634171],\n",
       "       [0.67969746, 0.63049795, 0.03671359, 0.24326885, 0.14491117,\n",
       "        0.08140659, 0.22875706],\n",
       "       [0.61212657, 0.67529442, 0.04237761, 0.26856364, 0.14503539,\n",
       "        0.08327127, 0.25958979],\n",
       "       [0.70051874, 0.60699302, 0.03263789, 0.23096787, 0.13880991,\n",
       "        0.12450381, 0.2272712 ],\n",
       "       [0.61008922, 0.66506536, 0.04098885, 0.26519907, 0.14006753,\n",
       "        0.14994378, 0.26714513],\n",
       "       [0.57014569, 0.54345486, 0.03332646, 0.20303563, 0.1284496 ,\n",
       "        0.13345413, 0.55040648],\n",
       "       [0.70339806, 0.60685322, 0.03163476, 0.2287677 , 0.13759453,\n",
       "        0.13349319, 0.21649997],\n",
       "       [0.62662843, 0.64584441, 0.04147371, 0.24933906, 0.14660387,\n",
       "        0.2188747 , 0.23860623],\n",
       "       [0.63167647, 0.67072376, 0.04308053, 0.26008463, 0.14956596,\n",
       "        0.0581261 , 0.23635969],\n",
       "       [0.6539843 , 0.64008881, 0.04031035, 0.23985401, 0.14939888,\n",
       "        0.18758905, 0.21430424],\n",
       "       [0.63973771, 0.6563235 , 0.04194784, 0.25357307, 0.14965124,\n",
       "        0.10657556, 0.24528018],\n",
       "       [0.58351346, 0.67153235, 0.04359006, 0.26343536, 0.14305658,\n",
       "        0.223102  , 0.25887909],\n",
       "       [0.7025838 , 0.61433473, 0.03357631, 0.23304572, 0.13915326,\n",
       "        0.06582699, 0.22323606],\n",
       "       [0.66330037, 0.61554916, 0.03540411, 0.2357465 , 0.13912053,\n",
       "        0.22198292, 0.23594714],\n",
       "       [0.64002901, 0.64532945, 0.03771268, 0.2524338 , 0.13750244,\n",
       "        0.18180534, 0.23834344],\n",
       "       [0.62604466, 0.66162631, 0.04154879, 0.25940944, 0.14550009,\n",
       "        0.16218499, 0.23200196],\n",
       "       [0.67835792, 0.62313363, 0.03367898, 0.2375036 , 0.13328245,\n",
       "        0.1497714 , 0.23194201],\n",
       "       [0.65460204, 0.62757331, 0.03724897, 0.24819975, 0.14342119,\n",
       "        0.19895679, 0.23346065],\n",
       "       [0.66067127, 0.64966742, 0.03810414, 0.2548052 , 0.14283   ,\n",
       "        0.0788316 , 0.22012105],\n",
       "       [0.64909686, 0.65378687, 0.04199901, 0.24969593, 0.15847531,\n",
       "        0.10594724, 0.2253548 ],\n",
       "       [0.61065664, 0.64598783, 0.04194863, 0.2494191 , 0.14581277,\n",
       "        0.26178501, 0.23671897],\n",
       "       [0.65621211, 0.64782178, 0.0383129 , 0.25073838, 0.14387208,\n",
       "        0.09401585, 0.23629818],\n",
       "       [0.55618578, 0.6664951 , 0.04178868, 0.27407227, 0.1364949 ,\n",
       "        0.2815465 , 0.26773206],\n",
       "       [0.7048289 , 0.60732881, 0.03327656, 0.22864143, 0.14234269,\n",
       "        0.10821766, 0.22138475],\n",
       "       [0.63043188, 0.66106415, 0.04428833, 0.25064114, 0.15587873,\n",
       "        0.13972268, 0.23863527],\n",
       "       [0.63476489, 0.6665996 , 0.04178065, 0.26307049, 0.14349738,\n",
       "        0.04124525, 0.2438732 ],\n",
       "       [0.69142064, 0.61442672, 0.03343518, 0.23094364, 0.1358066 ,\n",
       "        0.13794108, 0.22911408],\n",
       "       [0.70414025, 0.60771811, 0.03270964, 0.23702853, 0.13739232,\n",
       "        0.08304865, 0.22768187],\n",
       "       [0.59946339, 0.64038874, 0.03972084, 0.25555092, 0.1407274 ,\n",
       "        0.28764011, 0.24722633],\n",
       "       [0.67684478, 0.62922551, 0.03560049, 0.24635848, 0.14102629,\n",
       "        0.08302846, 0.23919524],\n",
       "       [0.48366759, 0.54465545, 0.03677483, 0.21210222, 0.12070513,\n",
       "        0.11435223, 0.62883241],\n",
       "       [0.71465707, 0.60370089, 0.03096493, 0.23088103, 0.13375006,\n",
       "        0.06770809, 0.21925367],\n",
       "       [0.66410726, 0.65027169, 0.03932425, 0.24787982, 0.14875467,\n",
       "        0.04543422, 0.22119056],\n",
       "       [0.66760096, 0.64567572, 0.04029768, 0.24090909, 0.15267121,\n",
       "        0.05109922, 0.22766445],\n",
       "       [0.68000186, 0.63803701, 0.03848776, 0.24056993, 0.15017421,\n",
       "        0.03276256, 0.21800312],\n",
       "       [0.60373197, 0.67899686, 0.0475244 , 0.26353465, 0.15477688,\n",
       "        0.12198289, 0.25283628],\n",
       "       [0.62405249, 0.65331971, 0.0409741 , 0.25467195, 0.14491991,\n",
       "        0.19623194, 0.24017996],\n",
       "       [0.54645825, 0.54607097, 0.03451091, 0.20990813, 0.1278813 ,\n",
       "        0.10456678, 0.5750214 ],\n",
       "       [0.58326926, 0.66896777, 0.04420485, 0.26696385, 0.14516808,\n",
       "        0.22463398, 0.25984827],\n",
       "       [0.60068374, 0.62864349, 0.03884151, 0.24987902, 0.13858117,\n",
       "        0.31725301, 0.24532429],\n",
       "       [0.70712689, 0.60899805, 0.03359227, 0.22786864, 0.14097593,\n",
       "        0.06176124, 0.22880499],\n",
       "       [0.70294546, 0.6039288 , 0.03208941, 0.23083258, 0.13869613,\n",
       "        0.12657387, 0.22708305],\n",
       "       [0.65215931, 0.65306698, 0.03960155, 0.2527401 , 0.14309383,\n",
       "        0.06644128, 0.24053197],\n",
       "       [0.64500018, 0.64365922, 0.03911571, 0.24964144, 0.14625368,\n",
       "        0.17767676, 0.22992938],\n",
       "       [0.61150457, 0.63946692, 0.03951401, 0.24703134, 0.14091192,\n",
       "        0.27481034, 0.24327247],\n",
       "       [0.58945889, 0.66721109, 0.03926972, 0.26212211, 0.13339362,\n",
       "        0.23447149, 0.25366656],\n",
       "       [0.59368193, 0.67378188, 0.04500256, 0.26453922, 0.14915342,\n",
       "        0.17522517, 0.26192158],\n",
       "       [0.66793   , 0.62471826, 0.03642132, 0.2416565 , 0.14288681,\n",
       "        0.15510956, 0.2437142 ],\n",
       "       [0.59486832, 0.68334392, 0.04337907, 0.26938219, 0.14150892,\n",
       "        0.11559077, 0.26709223],\n",
       "       [0.69884597, 0.61610323, 0.03493064, 0.22880504, 0.14349844,\n",
       "        0.08033427, 0.22674619],\n",
       "       [0.64189196, 0.65277148, 0.03891243, 0.25648479, 0.1418418 ,\n",
       "        0.13925792, 0.23463508],\n",
       "       [0.57631193, 0.65512811, 0.04253564, 0.26004319, 0.13845543,\n",
       "        0.29498335, 0.25110734],\n",
       "       [0.6796575 , 0.63641802, 0.03714817, 0.24486981, 0.14361385,\n",
       "        0.03790801, 0.22278829],\n",
       "       [0.65260225, 0.62450176, 0.03700456, 0.24225132, 0.14293499,\n",
       "        0.20853074, 0.24522913],\n",
       "       [0.66859777, 0.62214531, 0.03423586, 0.23813833, 0.1383251 ,\n",
       "        0.18561132, 0.23333427],\n",
       "       [0.68207996, 0.60862519, 0.03494348, 0.22506695, 0.14341168,\n",
       "        0.20854935, 0.22001451],\n",
       "       [0.58900895, 0.6677428 , 0.04123063, 0.26480487, 0.13838222,\n",
       "        0.22279687, 0.25802778],\n",
       "       [0.60453973, 0.66310929, 0.04479298, 0.26137303, 0.15039645,\n",
       "        0.1831954 , 0.26137303],\n",
       "       [0.68545225, 0.62259244, 0.03560188, 0.23422288, 0.14277586,\n",
       "        0.11442889, 0.23005892],\n",
       "       [0.66284502, 0.62880038, 0.03545565, 0.23974809, 0.13925488,\n",
       "        0.17498124, 0.23769721],\n",
       "       [0.58282193, 0.61540489, 0.04072411, 0.2378556 , 0.1418506 ,\n",
       "        0.38805845, 0.22945745],\n",
       "       [0.65813331, 0.64038019, 0.03604305, 0.25023437, 0.13657217,\n",
       "        0.111591  , 0.24850133],\n",
       "       [0.67756651, 0.61750412, 0.03440044, 0.23467512, 0.14108772,\n",
       "        0.17818507, 0.22733416],\n",
       "       [0.60842997, 0.64799886, 0.03947579, 0.25473059, 0.13937562,\n",
       "        0.24690991, 0.25114611],\n",
       "       [0.68846123, 0.61993757, 0.03659566, 0.23507646, 0.14845449,\n",
       "        0.11915055, 0.22104926]])"
      ]
     },
     "execution_count": 19,
     "metadata": {},
     "output_type": "execute_result"
    }
   ],
   "source": [
    "normalizer = Normalizer()\n",
    "normalizer.fit_transform(X_train)"
   ]
  },
  {
   "cell_type": "markdown",
   "metadata": {},
   "source": [
    "With your trained pre-processor, transform both your training AND testing data. Any testing data has to be transformed with your preprocessor that has ben fit against your training data, so that it exist in the same feature-space as the original data used to train your models."
   ]
  },
  {
   "cell_type": "markdown",
   "metadata": {
    "collapsed": true
   },
   "source": [
    "Just like your preprocessing transformation, create a PCA transformation as well. Fit it against your training data, and then project your training and testing features into PCA space using the PCA model's `.transform()` method. This has to be done because the only way to visualize the decision boundary in 2D would be if your KNN algo ran in 2D as well:"
   ]
  },
  {
   "cell_type": "code",
   "execution_count": 20,
   "metadata": {},
   "outputs": [
    {
     "data": {
      "text/plain": [
       "(140,)"
      ]
     },
     "execution_count": 20,
     "metadata": {},
     "output_type": "execute_result"
    }
   ],
   "source": [
    "y_train.shape"
   ]
  },
  {
   "cell_type": "code",
   "execution_count": 21,
   "metadata": {},
   "outputs": [],
   "source": [
    "from sklearn.decomposition import PCA"
   ]
  },
  {
   "cell_type": "code",
   "execution_count": 22,
   "metadata": {},
   "outputs": [],
   "source": [
    "pca = PCA(n_components=2)\n",
    "X_pca = pca.fit_transform(X_train)\n",
    "X_test = pca.transform(X_test)"
   ]
  },
  {
   "cell_type": "code",
   "execution_count": 23,
   "metadata": {},
   "outputs": [
    {
     "data": {
      "text/plain": [
       "(140, 2)"
      ]
     },
     "execution_count": 23,
     "metadata": {},
     "output_type": "execute_result"
    }
   ],
   "source": [
    "X_pca.shape"
   ]
  },
  {
   "cell_type": "markdown",
   "metadata": {},
   "source": [
    "Create and train a KNeighborsClassifier. Start with `K=9` neighbors. Be sure train your classifier against the pre-processed, PCA- transformed training data above! You do not, of course, need to transform your labels."
   ]
  },
  {
   "cell_type": "code",
   "execution_count": 24,
   "metadata": {},
   "outputs": [],
   "source": [
    "from sklearn.neighbors import KNeighborsClassifier"
   ]
  },
  {
   "cell_type": "code",
   "execution_count": 25,
   "metadata": {},
   "outputs": [
    {
     "data": {
      "text/plain": [
       "KNeighborsClassifier(algorithm='auto', leaf_size=30, metric='minkowski',\n",
       "           metric_params=None, n_jobs=1, n_neighbors=1, p=2,\n",
       "           weights='uniform')"
      ]
     },
     "execution_count": 25,
     "metadata": {},
     "output_type": "execute_result"
    }
   ],
   "source": [
    "knn = KNeighborsClassifier(n_neighbors=1)\n",
    "knn.fit(X_pca, y_train)"
   ]
  },
  {
   "cell_type": "code",
   "execution_count": null,
   "metadata": {},
   "outputs": [],
   "source": [
    "# I hope your KNeighbors classifier model from earlier was named 'knn'\n",
    "# If not, adjust the following line:\n",
    "plotDecisionBoundary(knn, X_pca, y_train)"
   ]
  },
  {
   "cell_type": "markdown",
   "metadata": {},
   "source": [
    "Display the accuracy score of your test data/labels, computed by your KNeighbors model. You do NOT have to run `.predict` before calling `.score`, since `.score` will take care of running your predictions for you automatically."
   ]
  },
  {
   "cell_type": "code",
   "execution_count": null,
   "metadata": {},
   "outputs": [],
   "source": [
    "knn.score(X_test, y_test)"
   ]
  },
  {
   "cell_type": "markdown",
   "metadata": {},
   "source": [
    "### Bonus"
   ]
  },
  {
   "cell_type": "markdown",
   "metadata": {},
   "source": [
    "Instead of the ordinal conversion, try and get this assignment working with a proper Pandas get_dummies for feature encoding. You might have to update some of the `plotDecisionBoundary()` code."
   ]
  },
  {
   "cell_type": "code",
   "execution_count": null,
   "metadata": {},
   "outputs": [],
   "source": [
    "plt.show()"
   ]
  },
  {
   "cell_type": "code",
   "execution_count": null,
   "metadata": {},
   "outputs": [],
   "source": []
  }
 ],
 "metadata": {
  "anaconda-cloud": {},
  "kernelspec": {
   "display_name": "Python 3",
   "language": "python",
   "name": "python3"
  },
  "language_info": {
   "codemirror_mode": {
    "name": "ipython",
    "version": 3
   },
   "file_extension": ".py",
   "mimetype": "text/x-python",
   "name": "python",
   "nbconvert_exporter": "python",
   "pygments_lexer": "ipython3",
   "version": "3.6.8"
  },
  "toc": {
   "colors": {
    "hover_highlight": "#DAA520",
    "running_highlight": "#FF0000",
    "selected_highlight": "#FFD700"
   },
   "moveMenuLeft": true,
   "nav_menu": {
    "height": "58px",
    "width": "252px"
   },
   "navigate_menu": true,
   "number_sections": true,
   "sideBar": true,
   "threshold": 4,
   "toc_cell": false,
   "toc_section_display": "block",
   "toc_window_display": false,
   "widenNotebook": false
  }
 },
 "nbformat": 4,
 "nbformat_minor": 2
}
