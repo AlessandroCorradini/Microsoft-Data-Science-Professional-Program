{
 "cells": [
  {
   "cell_type": "markdown",
   "metadata": {},
   "source": [
    "# Applications of Data Science\n",
    "\n",
    "# Lab 1\n",
    "\n",
    "# Exploring Time Series Data\n",
    "\n",
    "## Overview\n",
    "\n",
    "Time series models are used in a wide range of applications, particularly for forecasting. \n",
    "\n",
    "This notebook contains lab material to familarize yourself with key aspects of time series analysis. You will perform analyses on a time series of California dairy data. Specifically, you will explore the structure of the time series and forecast the monthly production of fresh milk in the state of California. \n",
    "\n",
    "This exploration is performed in two steps:\n",
    "\n",
    "- Explore the characteristics of the time series data.\n",
    "- Decompose the time series of monthly milk production into trend, seasonal components, and remainder components. \n",
    "- Apply time series models to the remainder component of the time series.\n",
    "- Forecast the production of monthly milk production for a 12 month period. \n",
    "\n",
    "## What you will need\n",
    "\n",
    "To complete this lab, you will need the following:\n",
    "\n",
    "- A web browser and Internet connection \n",
    "- An Azure Machine Learning workspace\n",
    "- The lab files for this lab\n",
    "\n",
    "**Note** To set up the required environment for the lab, follow the instructions in the [Setup guide](https://aka.ms/edx-dat203.3x-setup). \n"
   ]
  },
  {
   "cell_type": "markdown",
   "metadata": {},
   "source": [
    "## Load and Examine the Data\n",
    "\n",
    "As a first step, ensure that you have uploaded the **cadairydata.csv** file as a new dataset in your Azure Machine Learning workspace, and then execute the code below to load the data set into a dataframe."
   ]
  },
  {
   "cell_type": "code",
   "execution_count": null,
   "metadata": {},
   "outputs": [],
   "source": [
    "to.POSIXct <- function(year, monthNumber){\n",
    "  ## Function to create a POSIXct time series \n",
    "  ## object from a year.month format\n",
    "  \n",
    "  ## Create a character vector from the numeric input\n",
    "  dateStr <- paste(as.character(year), \"-\",\n",
    "                   as.character(monthNumber), \"-\",\n",
    "                   \"01\", sep = \"\")\n",
    "  ## Return the POSIXct time series object\n",
    "  as.POSIXct( strptime(dateStr, \"%Y-%m-%d\"))\n",
    "}\n",
    "\n",
    "order.month <- function(x){\n",
    "  ## Function to make Month column an ordered factor.\n",
    "  x <- substr(x, 1, 3) ## Use just the first three letters\n",
    "  factor(x, \n",
    "         levels = c(\"Jan\", \"Feb\", \"Mar\", \"Apr\", \"May\", \"Jun\",\n",
    "                    \"Jul\", \"Aug\", \"Sep\", \"Oct\", \"Nov\", \"Dec\"),\n",
    "         ordered = TRUE)\n",
    "}\n",
    "\n",
    "read.dairy <- function(dataSet = 'cadairydata.csv'){\n",
    "  library(\"AzureML\")\n",
    "  ws <- workspace()\n",
    "  df <- download.datasets(ws, dataSet)\n",
    "  df$dateTime <- to.POSIXct(df$Year, df$Month.Number)\n",
    "  dropCols <- c(\"X\",\"Year.Month\", \"Month.Number\")\n",
    "  df$Month <- order.month(df$Month)\n",
    "  df[ , !(names(df) %in% dropCols)]\n",
    "}\n",
    "\n",
    "dairy <- read.dairy()"
   ]
  },
  {
   "cell_type": "markdown",
   "metadata": {},
   "source": [
    "The code you just executed performs the following steps:\n",
    "\n",
    "- The data is read from a dataset in your Azure Machine Learning subscription.\n",
    "- A new column, of type POSIXct, is created. POSIXct is a flexible R data-time class. The **strtime** function formats a text string for conversion to the date-time class. \n",
    "- The **Month** column is converted to an ordered R factor class. \n",
    "- Some unnecessary columns are removed from the data frame.\n",
    "\n",
    "Next, execute the code below and examine the head of the data frame."
   ]
  },
  {
   "cell_type": "code",
   "execution_count": null,
   "metadata": {},
   "outputs": [],
   "source": [
    "head(dairy)"
   ]
  },
  {
   "cell_type": "markdown",
   "metadata": {},
   "source": [
    "The data frame inlcudes **Year**, **Month**, and the **dateTime** column with calendar information. Other columns show the production of dairy products and a benchmark price for milk fat.\n",
    "\n",
    "Next, examine the class of the **dateTime** column. "
   ]
  },
  {
   "cell_type": "code",
   "execution_count": null,
   "metadata": {},
   "outputs": [],
   "source": [
    "class(dairy$dateTime)"
   ]
  },
  {
   "cell_type": "markdown",
   "metadata": {},
   "source": [
    "As expected, this column is of class **POSIXct**, which inherits from the R **POSIXt** class. \n",
    "\n",
    "Now, examine the first 20 values of the **dateTime** column."
   ]
  },
  {
   "cell_type": "code",
   "execution_count": null,
   "metadata": {},
   "outputs": [],
   "source": [
    "dairy$dateTime[1:20]"
   ]
  },
  {
   "cell_type": "markdown",
   "metadata": {},
   "source": [
    "Note that these values inlcude the day and a time zone.\n",
    "\n",
    "You can perform both arithmetic and logical operations on POSIXct objects. As an example, select the last 12 months of dairy data by executing the next code cell. "
   ]
  },
  {
   "cell_type": "code",
   "execution_count": null,
   "metadata": {},
   "outputs": [],
   "source": [
    "dairy[dairy$dateTime > '2012-12-01',]"
   ]
  },
  {
   "cell_type": "markdown",
   "metadata": {},
   "source": [
    "Try selecting some other subsets of these data using the **POSIXct** column. \n",
    "\n",
    "## Create a Time Series Plot\n",
    "\n",
    "Now that you have examined the data frame, you will create a time series plot of milk production. When creating a time series plot, the **POSIXct** column is used to create the time axis. \n",
    "\n",
    "The plot is created using the **ggplot2** package. Execute the code in the cell below to create the time series plot of milk production. "
   ]
  },
  {
   "cell_type": "code",
   "execution_count": null,
   "metadata": {},
   "outputs": [],
   "source": [
    "library(repr)\n",
    "options(repr.plot.width=8, repr.plot.height=8)\n",
    "\n",
    "dairy.plot <- function(df, col = 'Milk.Prod'){\n",
    "  require(ggplot2)\n",
    "  ggplot(df, aes_string('dateTime', col)) +\n",
    "    geom_line() +\n",
    "    ggtitle(paste('Time series of', col)) +\n",
    "    xlab('Time in years')\n",
    "}\n",
    "dairy.plot(dairy)"
   ]
  },
  {
   "cell_type": "markdown",
   "metadata": {},
   "source": [
    "The production of milk is shown on the vertical scale and the date is on the horizontal scale. \n",
    "\n",
    "For most of the time period shown, the production of milk increased year over year. However, there is a decline in milk production starting in 2009 as a results of the recession. Also, notice that this time series exhibits a strong seasonal component with an annual cycle. \n",
    "\n",
    "\n",
    "## Statistical Properties of the Time Series\n",
    "\n",
    "Having examined the time series of milk production, you will now explore some statistical properties of the time series. \n",
    "\n",
    "Autocorrelation is a fundamental property of time series. The **Autocorrelation Function** or ACF provides information on the dependency of the time series values of previous values. Later in this lab, you will use the results of a ACF analysis to estimate the order of moving average processes.The **Partial autocorrelation Function** or PACF, measures the correlation of the time series with its own lag values. Later in this lab you will use an  PACF to estimate the order of an autoregressive process. \n",
    "\n",
    "Execute the code in the following cell and examine the ACF of the milk production time series. "
   ]
  },
  {
   "cell_type": "code",
   "execution_count": null,
   "metadata": {
    "scrolled": false
   },
   "outputs": [],
   "source": [
    "dairy.acf <- function(df, col = 'remainder', is.df =TRUE){\n",
    "  if(is.df) temp <- df[, col]\n",
    "  else temp <- df\n",
    "  temp = ts(temp, start = 1995, frequency = 12)\n",
    "  par(mfrow = c(2,1))\n",
    "  acf(temp, main = paste('ACF of', col))\n",
    "  pacf(temp, main = paste('PACF of', col))\n",
    "  par(mfrow = c(1,1))\n",
    "}\n",
    "dairy.acf(dairy, col = 'Milk.Prod')"
   ]
  },
  {
   "cell_type": "markdown",
   "metadata": {},
   "source": [
    "Note that the values of the ACF at the various lags decays only slowly. This indicates there is considerable serial correlation between the time series values at the various lags, mostly likely from the trend. \n",
    "\n",
    "Plotting a histogram provides information on the distribution of values of the time series. Execute the code in the cell below and examine the histogram."
   ]
  },
  {
   "cell_type": "code",
   "execution_count": null,
   "metadata": {},
   "outputs": [],
   "source": [
    "hist.ts = function(df, col = 'Milk.Prod', bins = 40){\n",
    "    temp = df[,col]\n",
    "    breaks = seq(min(temp), max(temp), length.out = (bins + 1))\n",
    "    hist(temp, breaks = breaks, main = paste('Distribution of ', col), xlab = col)\n",
    "}\n",
    "hist.ts(dairy)"
   ]
  },
  {
   "cell_type": "markdown",
   "metadata": {},
   "source": [
    "The histogram of the full milk production time series shows considerable dispursion. Again this behavior is likely the result of the trend. \n",
    "\n",
    "\n",
    "### Exercise: Plot Ice Cream Production\n",
    "\n",
    "In this exercise you will use the **Icecream.Prod** column of the **diary** data frame. Create plots to answer the following questions. \n",
    "\n",
    "- Does icecream production have a noticable seasonal component? Can you characterize the trend of ice cream production greater over time as strong or weak? \n",
    "- Is the seasonal variation of icecream production noticable in the plot of ACF? Does the ACF plot indicate a strong trend component? \n",
    "\n",
    "In the code cell below, use the **dairy.plot** and **dairy.acf** functions to create new plots showing the ice cream production and answer the questions above. \n"
   ]
  },
  {
   "cell_type": "code",
   "execution_count": null,
   "metadata": {},
   "outputs": [],
   "source": [
    "dairy.plot(dairy, 'Icecream.Prod')"
   ]
  },
  {
   "cell_type": "markdown",
   "metadata": {},
   "source": [
    "## Simple Moving Average Decomposition of the Time Series\n",
    "\n",
    "Time series are typically decomposed into three components: trend, seasonal, and the remainder, or residual. Trend can be modeled by several methods. You will start by decomposing the time series using a simple moving average model. \n",
    "\n",
    "The code in the cell below uses moving window method to compute the average of the time series over specified span, or order of the operator. As the moving window operator moves over the data, the average of the values in the windows is calculated. Execute the cell to load the function."
   ]
  },
  {
   "cell_type": "code",
   "execution_count": null,
   "metadata": {
    "collapsed": true
   },
   "outputs": [],
   "source": [
    "dairy.ma <- function(df, col = 'Milk.Prod', order = 12){\n",
    "  temp = df[, col]\n",
    "  end = length(temp) - 1\n",
    "  out = rep(0, length(temp))\n",
    "  out[1] = temp[1]\n",
    "  for(i in 1:end){\n",
    "    if(i - order <= 1) j = 1 \n",
    "    else j = j + 1\n",
    "    out[i + 1] = sum(temp[j:i])/(i - j + 1)\n",
    "  }\n",
    "  out\n",
    "}"
   ]
  },
  {
   "cell_type": "markdown",
   "metadata": {},
   "source": [
    "Once the trend has been removed, the seasonal component must be modeled and removed. The function in the cell below computes the seasonal component as a function of the month of the year using a linear model. The **0** in the model formula supresses the intercept term. Since 12 monthly factors are used to model seasonal variation, the model would be over-determined if an intercept was included. \n",
    "\n",
    "Execute the code in the cell to load the function."
   ]
  },
  {
   "cell_type": "code",
   "execution_count": null,
   "metadata": {
    "collapsed": true
   },
   "outputs": [],
   "source": [
    "dairy.seasons <- function(df, col = 'Milk.Prod'){\n",
    "  df$y = df[, col]\n",
    "  fit = lm(y ~ 0 + Month, data = df)\n",
    "  predict(fit, newdata = df)\n",
    "}"
   ]
  },
  {
   "cell_type": "markdown",
   "metadata": {},
   "source": [
    "Using these functions you will now decompose the time series into its components. The function in the code cell below uses multiplicative decomposition of the time series. The model is transformed to a multiplicative model by taking the log of the time series values. The moving average is computed over a twelve month moving window. \n",
    "\n",
    "Execute the code in the cell below and examine the head of the resulting data frame. "
   ]
  },
  {
   "cell_type": "code",
   "execution_count": null,
   "metadata": {},
   "outputs": [],
   "source": [
    "decomp.dairy <- function(df,  col = 'Milk.Prod', multiplicative = TRUE, order = 12){\n",
    "  if(multiplicative) {\n",
    "    temp = log(df[, col])\n",
    "    df[, col] = temp\n",
    "  } else { \n",
    "    temp = df[, col] \n",
    "  }\n",
    "  trend = dairy.ma(df, col = col, order = order)\n",
    "  temp = temp - trend\n",
    "  df[, col] = temp\n",
    "  seasonal = dairy.seasons(df, col = col)\n",
    "  remainder = temp - seasonal\n",
    "  data.frame(trend = trend, seasonal = seasonal, remainder = remainder)\n",
    "}\n",
    "decomp <- decomp.dairy(dairy, order = 12)\n",
    "head(decomp)"
   ]
  },
  {
   "cell_type": "markdown",
   "metadata": {},
   "source": [
    "The resulting data frame has three components for trend, seasonal, and remainder.\n",
    "\n",
    "The code in the cell below creates visualizations of each of the three components of the decomposition of the time series using **ggplot2**. Run the code in the cell to visualize these components. \n",
    "\n",
    "(**Note**: If an error occurs stating that gridExtra can't be found, save the notebook, halt and close it, reopen it, run all the cells above this one, and then re-run the cell below - occasionally newly installed packages fail to load in a timely fashion) "
   ]
  },
  {
   "cell_type": "code",
   "execution_count": null,
   "metadata": {},
   "outputs": [],
   "source": [
    "\n",
    "decomp.plot <- function(df){\n",
    "  require(ggplot2)\n",
    "  install.packages(\"gridExtra\", repos = c(CRAN = \"http://cran.rstudio.com\"))\n",
    "  require(gridExtra)\n",
    "  df$x = 1:nrow(df)\n",
    "  ycols = c('trend', 'seasonal', 'remainder')\n",
    "  p <- lapply(ycols, function(y){\n",
    "               ggplot(df, aes_string('x', y)) + \n",
    "                         geom_line() +\n",
    "                         ylab(y)\n",
    "            })\n",
    "  grid.arrange(p[[1]], p[[2]], p[[3]], nrow = 3)\n",
    "}\n",
    "decomp.plot(decomp)"
   ]
  },
  {
   "cell_type": "markdown",
   "metadata": {},
   "source": [
    "You can see the trend and seasonal components clearly separated in the above plots. The remainder plot looks fairly random, as expected. But, is the remainder actually stationary?  To test for stationarity of the remainder, plot the ACF by executing the code in the cell below. "
   ]
  },
  {
   "cell_type": "code",
   "execution_count": null,
   "metadata": {},
   "outputs": [],
   "source": [
    "dairy.acf(decomp)"
   ]
  },
  {
   "cell_type": "markdown",
   "metadata": {},
   "source": [
    "The ACF has 7 significant lag values, indicating the remainder is not, in fact, stationary. \n",
    "\n",
    "## Exploring the Multiplicative Model with lowess\n",
    "\n",
    "Having tried a simple moving average decomposition, you will now use a lowess model to determine the trend. Lowess is a sophisticated non-linear regression. The lowess trend model is combined with a moving window seasonal component model into the R **stl** function.   \n",
    "\n",
    "The code in the cell below uses **stl** to decompose a time series. Plots are created of the components of the time series. Finally, the columns of the time series decomposition are added as new column to input data frame. Execute the code in the cell below to compute and view a decomposition of the milk production time series. "
   ]
  },
  {
   "cell_type": "code",
   "execution_count": null,
   "metadata": {},
   "outputs": [],
   "source": [
    "dairy.decomp <- function(df, col = 'Milk.diff', span = 0.5, Mult = TRUE){\n",
    "  if(Mult) {temp <- ts(log(df[, col]), frequency=12, start=1)\n",
    "  } else {temp <- ts(df[, col], frequency=24, start=1)}\n",
    "  span = span * length(temp)  \n",
    "  dairyFit <- stl(temp, s.window = \"periodic\", t.window = span)\n",
    "  plot(dairyFit, main = 'Decompositon of dairy produciton')\n",
    "  cbind(df, as.data.frame(dairyFit$time.series))\n",
    "}\n",
    "dairyMult = dairy.decomp(dairy, col = 'Milk.Prod', span = 0.2)"
   ]
  },
  {
   "cell_type": "markdown",
   "metadata": {},
   "source": [
    "The time series charts show the original time series along with the components of the decomposition. The trend is a bit smoother than was obtained with the simple moving average decomposition. \n",
    "\n",
    "The question remains, is the remainder from this decomposition stationary? To find out, execute the code in the cell below.  "
   ]
  },
  {
   "cell_type": "code",
   "execution_count": null,
   "metadata": {},
   "outputs": [],
   "source": [
    "dairy.acf(dairyMult)"
   ]
  },
  {
   "cell_type": "markdown",
   "metadata": {},
   "source": [
    "The first 4 lag values of the ACF have significant values, indicating that the remainder series is not stationary. Compared to the behavior of the ACF for the simple moving average decomposition, the behavior of the remainder is improved.  \n",
    "\n",
    "Now, plot the histogram of the remainder by executing the code in the cell below. "
   ]
  },
  {
   "cell_type": "code",
   "execution_count": null,
   "metadata": {},
   "outputs": [],
   "source": [
    "hist.ts(dairyMult, col = 'remainder')"
   ]
  },
  {
   "cell_type": "markdown",
   "metadata": {},
   "source": [
    "The distribution of the remainder values is much closer to a Normal distribution than for the original time series you created earlier. This result, combined with the ACF plot, indicates that the stl decomposition is effective.  \n",
    "\n",
    "You will further, investigate the remainder (non-seasonal residual) component by making a box plot by month of the year. The code in the cell below plots a box plot by month of the remainder component using ggplot2. Execute the code in the cell below to display the box plot. "
   ]
  },
  {
   "cell_type": "code",
   "execution_count": null,
   "metadata": {},
   "outputs": [],
   "source": [
    "dairy.box <- function(df, col = 'remainder'){\n",
    "  require(ggplot2)\n",
    "  p <- ggplot(df, aes_string('Month', col)) +\n",
    "    geom_boxplot() +\n",
    "    ggtitle('Variation of remainder component of dairy production by month')\n",
    "  print(p)\n",
    "}\n",
    "dairy.box(dairyMult)"
   ]
  },
  {
   "cell_type": "markdown",
   "metadata": {},
   "source": [
    "The remainder component shows only limited vairation from month to month. The differences are within the interquartile range, indicating that the seasonal model is a reasonably good fit.  \n",
    "\n",
    "****\n",
    "\n",
    "### Exercise: Decomposition of Ice Cream Production Time Series\n",
    "\n",
    "In this exercise you will decompose the **Icecream.Prod** column of the **diary** data frame. Create plots to answer the following questions. \n",
    "\n",
    "- Does icecream production have a noticable seasonal component or are the values all close to the average over time? Is there a strong seasonal component for icecream production. \n",
    "- Does the acf plot indicate that the remainder series is stationary?\n",
    "- Do the values in the histogram have an approximately normal distribution?\n",
    "- Does the interquartile range for each month overlap, indicating that the decomposition has produced a reasonably good model of the seasonal variation. \n",
    "\n",
    "In the code cell below, use the **dairy.decomp**, **dairy.acf**, **dairy.hist**, and **dairy.box** functions to create new plots of the ice cream production time series and answer the questions above. \n",
    "\n",
    "****\n"
   ]
  },
  {
   "cell_type": "code",
   "execution_count": null,
   "metadata": {},
   "outputs": [],
   "source": []
  },
  {
   "cell_type": "markdown",
   "metadata": {},
   "source": [
    "## Moving Average Models\n",
    "\n",
    "Now that you have explored the decomposition of the time series you, will now construct and test Autoregressive Moving Average (ARMA) models for the remainder of the time series. You will create and test these models in three steps, creating a moving average (MA) model, creating an autoregressive (AR) model and creating an autoregressive moving average (ARMA) model. \n",
    "\n",
    "The function in the cell below computes an Autoregressive Integrative Moving Average (ARIMA) model. The summary statistics for the model are printed and the model object returned. By assigning values to the order of each operator different time series models can be specified, as order of MA model, order of Integrative model, and order of AR model. Since the de-trended remainder is being modeled, the **include.mean** argument is set to FALSE in the **arima** function. \n",
    "\n",
    "The ACF of the remainder from the **stl** decomposition of the milk production time series had 4 significant lag values. As an inital model, you will now create an MA model of order 4. Execute the code in the cell below to compute the MA(4) model and examine the model summary. "
   ]
  },
  {
   "cell_type": "code",
   "execution_count": null,
   "metadata": {},
   "outputs": [],
   "source": [
    "model.dairy = function(df, col = 'remainder', order = c(0,0,1)){\n",
    "  ts = ts(df[, col], frequency = 12, start = 1995)\n",
    "  dairy.mod = arima(ts, order = order, include.mean = FALSE)\n",
    "  print(dairy.mod)\n",
    "  dairy.mod\n",
    "}\n",
    "ma1 = model.dairy(dairyMult, order = c(0,0,4))"
   ]
  },
  {
   "cell_type": "markdown",
   "metadata": {},
   "source": [
    "Examine the values of the model coefficients and their standard errors (SE). Notice that the SE of the ma4 coefficient is actually greater than the value of the coefficient itself. This indicates that the value of this coefficient is poorly deterimind and should likely be set to zero. \n",
    "\n",
    "The foregoing result indicates that the order of the MA model should be reduced. Generally, the order of an MA model is reduced in unit steps until all the coefficients appear to be significant. The code in the cell below computes an MA(3) model. Run this code and examine the model summary. "
   ]
  },
  {
   "cell_type": "code",
   "execution_count": null,
   "metadata": {},
   "outputs": [],
   "source": [
    "ma1 = model.dairy(dairyMult, order = c(0,0,3))"
   ]
  },
  {
   "cell_type": "markdown",
   "metadata": {},
   "source": [
    "The small standard error compared to the magnitude of the coefficients indicates that the order of the model is reasonable. \n",
    "\n",
    "To test how well this model fits the data, and results in a stationary result, you will plot the ACF of the residuals of the MA(3) model. Run the code in the cell below to plot the ACF of the model result. "
   ]
  },
  {
   "cell_type": "code",
   "execution_count": null,
   "metadata": {},
   "outputs": [],
   "source": [
    "dairy.acf(ma1$resid[-1], is.df = FALSE)"
   ]
  },
  {
   "cell_type": "markdown",
   "metadata": {},
   "source": [
    "Note that only the 0 lag of the ACF is significant and that there are no significant lags for the PACS. These observations indicate that the MA(3) model is a good fit. "
   ]
  },
  {
   "cell_type": "markdown",
   "metadata": {},
   "source": [
    "## Autoregressive Models\n",
    "\n",
    "The MA(3) model has been shown to be effective. Next, you will test an autoregressive model. The PACF of the reminder indicates that an AR model might not be the best choice. None the less, a low order AR model might fit these data. To compute an AR(2) model exectue the code in the cell below. "
   ]
  },
  {
   "cell_type": "code",
   "execution_count": null,
   "metadata": {},
   "outputs": [],
   "source": [
    "ar1 = model.dairy(dairyMult, order = c(2,0,0))"
   ]
  },
  {
   "cell_type": "markdown",
   "metadata": {},
   "source": [
    "Examine the values of the coefficients and their standard errors. Note that the standard error of the second coefficient is of the same magnitude as the coefficient. Clearly, the AR(2) model is over parameterized. \n",
    "\n",
    "Next, you will try an AR(1) model, by executing the code in the cell below."
   ]
  },
  {
   "cell_type": "code",
   "execution_count": null,
   "metadata": {},
   "outputs": [],
   "source": [
    "ar1 = model.dairy(dairyMult, order = c(1,0,0))"
   ]
  },
  {
   "cell_type": "markdown",
   "metadata": {},
   "source": [
    "The standard error of the AR(1) model is an order of magnitude less than the value of the coefficient, which is promising.\n",
    "\n",
    "Next, exectue the code in the cell below to plot the ACF and PACF of the AR(1) model"
   ]
  },
  {
   "cell_type": "code",
   "execution_count": null,
   "metadata": {},
   "outputs": [],
   "source": [
    "options(repr.plot.width=8, repr.plot.height=8)\n",
    "dairy.acf(ar1$resid[-1], is.df = FALSE)"
   ]
  },
  {
   "cell_type": "markdown",
   "metadata": {},
   "source": [
    "Note that only the 0 lag of the ACF is significant and that there are no significant lags for the PACF. These observations indicate that the AR(1) model is a good fit. Compare these results to those of the MA(3) model, noting that they are nearly identical. Evidently, either the MA(3) or AR(1) model is a good choice for these data. "
   ]
  },
  {
   "cell_type": "markdown",
   "metadata": {},
   "source": [
    "## Autoregressive Moving Average Models\n",
    "\n",
    "You have found that both MA(3) and AR(1) models are good fits to the remainder series. You will now investigate the use of autoregressive moving average (ARMA) models on the remainder series. \n",
    "\n",
    "As a starting point you will try an ARMA(1,3) model by executing the code in the cell below. "
   ]
  },
  {
   "cell_type": "code",
   "execution_count": null,
   "metadata": {},
   "outputs": [],
   "source": [
    "arma1 = model.dairy(dairyMult, order = c(1,0,3))"
   ]
  },
  {
   "cell_type": "markdown",
   "metadata": {},
   "source": [
    "In each case, the standard error is of the same order of magnitude as the value of the coefficient, indicating this model is a poor fit to the data.\n",
    "\n",
    "\n",
    "****\n",
    "\n",
    "### Exercise: Test Another ARMA Model\n",
    "\n",
    "In this exercise you will test an ARMA(1,1) model and evaluate its coefficients to answer these questions. \n",
    "\n",
    "- How do the standard errors compare to the values of the coefficients?\n",
    "- Do you think this model fits the data well or is it over parameterize?\n",
    "\n",
    "Add code to compute the ARMA(1,1) model and plot iots ACFG and PACF to the cell below, and answer the questions above.\n",
    "\n",
    "****"
   ]
  },
  {
   "cell_type": "code",
   "execution_count": null,
   "metadata": {},
   "outputs": [],
   "source": []
  },
  {
   "cell_type": "markdown",
   "metadata": {},
   "source": [
    "\n",
    "## Exploring the Difference Series\n",
    "\n",
    "Using a difference series is a method to remove trend from a time series. The difference can be computed for any number of lag values, depending on the order of the trend.  In this case you will use a first order difference series to model the trend in the milk production time series. \n",
    "\n",
    "Using the code in the cell below, you will compute the first order difference series. Notice that the difference series is  necessarily of length one less than the original series. Execute the code in the cell to compute the difference series. "
   ]
  },
  {
   "cell_type": "code",
   "execution_count": null,
   "metadata": {},
   "outputs": [],
   "source": [
    "dairy.diff <- function(df, col = 'Milk.Prod', out = 'Milk.Diff'){\n",
    "  ln <- nrow(df)\n",
    "  temp <- ts(df[, col], frequency = 12, start = 1995)\n",
    "  df[2:ln, out] <- diff(temp)\n",
    "  df <- df[2:ln, ]\n",
    "  df\n",
    "}\n",
    "dairyDiff <- dairy.diff(dairy)"
   ]
  },
  {
   "cell_type": "markdown",
   "metadata": {},
   "source": [
    "Next, compute the stl decomposition of the difference series. Since we are working with a difference series, which has positive and negative values, we use an additive model. No logarithm is taken. Execute the code in the cell below to compute and display the decomposition of the difference series.  "
   ]
  },
  {
   "cell_type": "code",
   "execution_count": null,
   "metadata": {},
   "outputs": [],
   "source": [
    "dairyDiff = dairy.decomp(dairyDiff, col = 'Milk.Diff', span = 0.5, Mult = FALSE)"
   ]
  },
  {
   "cell_type": "markdown",
   "metadata": {},
   "source": [
    "Examine the results shown above. The difference series is shown in the uppermost plot. Notice the small magnitude of the remaining trend indicating that the first order difference model removed most of the trend. However, the seasonal series exhibits a pattern with a 24 month cycle which is a bit odd. \n",
    "\n",
    "****\n",
    "\n",
    "### Exercise: Analysis of the Difference Series\n",
    "\n",
    "In this exercise you will analyize the remainder of the difference series following these steps. \n",
    "\n",
    "- Does the acf plot indicate that the remainder series is stationary?  \n",
    "- Is the dispersion of these values greater or less than the dispersion obtained directly from the decomposition of the time series (without diferencing). \n",
    "- Is the interquartile range of these values greater or less than the interquartile range obtained directly from the decomposition of the time series (without differencing). \n",
    "\n",
    "In the code cell below, use the **dairy.acf**, **dairy.hist**, and **dairy.box** functions to create new plots of the difference series and answer the questions above. \n",
    "****\n"
   ]
  },
  {
   "cell_type": "code",
   "execution_count": null,
   "metadata": {},
   "outputs": [],
   "source": []
  },
  {
   "cell_type": "markdown",
   "metadata": {},
   "source": [
    "## Autoregressive Integrative Moving Average Model\n",
    "\n",
    "It is clear from the exploration of the ARMA model, that the remainder of the decomposition of the dairy production time series is not stationary. You will now model the remainder series with an autoregressive integrative moving average (ARIMA) model.\n",
    "\n",
    "Execute the code in the cell below to compute an ARIMA(1,1,1) model."
   ]
  },
  {
   "cell_type": "code",
   "execution_count": null,
   "metadata": {},
   "outputs": [],
   "source": [
    "arima1 = model.dairy(dairyMult, order = c(1,1,1))"
   ]
  },
  {
   "cell_type": "markdown",
   "metadata": {},
   "source": [
    "The standard error of the ar1 coeficient is only about half its value. This model seems to be a reasonable fit. \n",
    "\n",
    "Next, plot the ACF and PACF of the model by executing the code in the cell below. "
   ]
  },
  {
   "cell_type": "code",
   "execution_count": null,
   "metadata": {},
   "outputs": [],
   "source": [
    "dairy.acf(arima1$resid[-1], is.df = FALSE)"
   ]
  },
  {
   "cell_type": "markdown",
   "metadata": {},
   "source": [
    "Note that only the 0 lag of the ACF is significant and that there are no significant lags for the PACF. These observations indicate that the ARIMA(1,1,1) model is a good fit. Compare these results to those of the MA(3) and AR(1) models, noting that they are nearly identical. The ARIMA(1,1,1) model is a good choice for these data as well. "
   ]
  },
  {
   "cell_type": "markdown",
   "metadata": {
    "collapsed": true
   },
   "source": [
    "## Summary\n",
    "\n",
    "In this lab you have learned to work with and analyze time series data. Specifically, you have done the following:\n",
    "\n",
    "- Examined the properties of time series objects.\n",
    "- Plotted time series data.\n",
    "- Decomposed time series data into its trend, seasonal, and remainder components.\n",
    "- Modeled the remainder components as AR, MA, ARMA and ARIMA models. \n",
    "- Created and evaluated difference series methods."
   ]
  }
 ],
 "metadata": {
  "celltoolbar": "Raw Cell Format",
  "kernelspec": {
   "display_name": "R",
   "language": "R",
   "name": "ir"
  },
  "language_info": {
   "codemirror_mode": "r",
   "file_extension": ".r",
   "mimetype": "text/x-r-source",
   "name": "R",
   "pygments_lexer": "r",
   "version": "3.5.1"
  }
 },
 "nbformat": 4,
 "nbformat_minor": 1
}
