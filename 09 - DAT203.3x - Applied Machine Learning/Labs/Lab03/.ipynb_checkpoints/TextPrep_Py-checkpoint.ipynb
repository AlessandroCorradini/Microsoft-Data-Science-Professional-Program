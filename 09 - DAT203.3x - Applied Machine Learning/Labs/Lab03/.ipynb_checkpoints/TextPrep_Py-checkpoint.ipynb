{
 "cells": [
  {
   "cell_type": "markdown",
   "metadata": {},
   "source": [
    "# Applications of Data Science\n",
    "# Lab 3-Py\n",
    "# Preparing Text Data with Python\n",
    "\n",
    "## Overview\n",
    "\n",
    "This lab introduces you to the basics of text mining and text data preparation. In this lab you will work with a set of 160,000 tweets, which include sentiment labels. \n",
    "\n",
    "Social media sentiment is an important indicator of public opinion.  Determining sentiment can be valuable in a number of applications including brand awareness, product launches, and detecting political trends. \n",
    "\n",
    "Raw text is inherently messy. Machine understanding and analysis is inhibited by the presence of extraneous symbols and words that clutter the text. The exact nature of the required text cleaning depends on the application.  In this case, you will focus on text cleaning to facilitate sentiment classification. The presence of certain words determine the sentiment of the tweet. Words and symbols which are extraneous to this purpose are distractions at best, and a likely source of noise in the analysis. You will follow these steps to prepare the tweet text for analysis: \n",
    "\n",
    "- Remove punctuation symbols and numerals, leaving only alphabetic characters.\n",
    "- Convert all remaining characters to lower case. \n",
    "- Remove stopwords like \"the\", \"and\" and \"this\". Since these words are relatively common, yet communicate no particular sentiment, they can bias analytics. \n",
    "- Stem all remaining words to their root stem. \n",
    "\n",
    "\n",
    "## What you will need\n",
    "To complete this lab, you will need the following:\n",
    "- A web browser and Internet connection\n",
    "- An Azure ML workspace\n",
    "- The lab files for this lab\n",
    "\n",
    "\n",
    "## Load and transform the tweet data\n",
    "\n",
    "As a first step, ensure that you have uploaded the **tweets.csv** and **stopwords.csv** files as new datasets in your Azure Machine Learning workspace. Then use the following code to load the tweets data set and set the column names to convenient values."
   ]
  },
  {
   "cell_type": "code",
   "execution_count": 6,
   "metadata": {},
   "outputs": [
    {
     "data": {
      "text/html": [
       "<div>\n",
       "<style scoped>\n",
       "    .dataframe tbody tr th:only-of-type {\n",
       "        vertical-align: middle;\n",
       "    }\n",
       "\n",
       "    .dataframe tbody tr th {\n",
       "        vertical-align: top;\n",
       "    }\n",
       "\n",
       "    .dataframe thead th {\n",
       "        text-align: right;\n",
       "    }\n",
       "</style>\n",
       "<table border=\"1\" class=\"dataframe\">\n",
       "  <thead>\n",
       "    <tr style=\"text-align: right;\">\n",
       "      <th></th>\n",
       "      <th>sentiment_label</th>\n",
       "      <th>tweet_text</th>\n",
       "    </tr>\n",
       "  </thead>\n",
       "  <tbody>\n",
       "    <tr>\n",
       "      <th>0</th>\n",
       "      <td>4</td>\n",
       "      <td>@elephantbird Hey dear, Happy Friday to You  A...</td>\n",
       "    </tr>\n",
       "    <tr>\n",
       "      <th>1</th>\n",
       "      <td>4</td>\n",
       "      <td>Ughhh layin downnnn    Waiting for zeina to co...</td>\n",
       "    </tr>\n",
       "    <tr>\n",
       "      <th>2</th>\n",
       "      <td>0</td>\n",
       "      <td>@greeniebach I reckon he'll play, even if he's...</td>\n",
       "    </tr>\n",
       "    <tr>\n",
       "      <th>3</th>\n",
       "      <td>0</td>\n",
       "      <td>@vaLewee I know!  Saw it on the news!</td>\n",
       "    </tr>\n",
       "    <tr>\n",
       "      <th>4</th>\n",
       "      <td>0</td>\n",
       "      <td>very sad that http://www.fabchannel.com/ has c...</td>\n",
       "    </tr>\n",
       "  </tbody>\n",
       "</table>\n",
       "</div>"
      ],
      "text/plain": [
       "   sentiment_label                                         tweet_text\n",
       "0                4  @elephantbird Hey dear, Happy Friday to You  A...\n",
       "1                4  Ughhh layin downnnn    Waiting for zeina to co...\n",
       "2                0  @greeniebach I reckon he'll play, even if he's...\n",
       "3                0              @vaLewee I know!  Saw it on the news!\n",
       "4                0  very sad that http://www.fabchannel.com/ has c..."
      ]
     },
     "execution_count": 6,
     "metadata": {},
     "output_type": "execute_result"
    }
   ],
   "source": [
    "%matplotlib inline\n",
    "\n",
    "import pandas as pd\n",
    "\n",
    "# from azureml import Workspace\n",
    "# ws = Workspace()\n",
    "# download.datasets(ws, \"tweets.csv\")\n",
    "\n",
    "dataset = pd.read_csv('tweets.csv')\n",
    "dataset.head()"
   ]
  },
  {
   "cell_type": "markdown",
   "metadata": {},
   "source": [
    "Examine the head of the data frame shown above, noticing the content of the two columns.\n",
    "- The Sentiment column contains a sentiment score {0,4} for negative of positive sentiment of the tweet.\n",
    "- The Tweets column contains the actual text of the tweet.\n",
    "\n",
    "\n",
    "## Normalize the text\n",
    "\n",
    "You will now normalize the tweet text. The code in the cell below performs the following operations:\n",
    "- Remove numbers.\n",
    "- Remove punctuation.\n",
    "- Convert to lower case."
   ]
  },
  {
   "cell_type": "code",
   "execution_count": 9,
   "metadata": {},
   "outputs": [
    {
     "data": {
      "text/plain": [
       "['elephantbird hey dear happy friday to you  already had your rices bowl for lunch ',\n",
       " 'ughhh layin downnnn    waiting for zeina to cook breakfast',\n",
       " 'greeniebach i reckon hell play even if hes not but i know nothing  it wont be the same without him',\n",
       " 'valewee i know  saw it on the news',\n",
       " 'very sad that httpwwwfabchannelcom has closed down one of the few web services that ive used for over  years']"
      ]
     },
     "execution_count": 9,
     "metadata": {},
     "output_type": "execute_result"
    }
   ],
   "source": [
    "import string\n",
    "sp = string.punctuation\n",
    "tweets = dataset['tweet_text'].tolist()\n",
    "tweets = list(map(lambda t: ''.join([\"\" if c.isdigit() else c for c in t]), tweets))\n",
    "tweets = list(map(lambda t: ''.join([\"\" if c in sp else c for c in t]), tweets))\n",
    "tweets = list(map(str.lower, tweets))\n",
    "tweets[:5]"
   ]
  },
  {
   "cell_type": "markdown",
   "metadata": {},
   "source": [
    "Examine the tweet text. All of the characters are lower case and there are no punctuation characters, or numbers. \n",
    "\n",
    "Next, you will compute the counts and cumulative frequencies of the words in the tweets. The **nltk** package contains two tools to help:\n",
    "\n",
    "The ** regexp_tokenize** functuon tokenizes the text. Tokenization is the process of dividing the text into its component tokens. In this case, the tokens are all words, since you are working with normalized text.\n",
    "\n",
    "The ** FreqDist** function computes the frequency distribution of words in a text corpus. A Pandas data frame is then computed from the word frequency array. \n",
    "\n",
    "Execute the code in the cell below to compute the word frequency and examine the head of the data frame.\n"
   ]
  },
  {
   "cell_type": "code",
   "execution_count": 10,
   "metadata": {},
   "outputs": [
    {
     "data": {
      "text/html": [
       "<div>\n",
       "<style scoped>\n",
       "    .dataframe tbody tr th:only-of-type {\n",
       "        vertical-align: middle;\n",
       "    }\n",
       "\n",
       "    .dataframe tbody tr th {\n",
       "        vertical-align: top;\n",
       "    }\n",
       "\n",
       "    .dataframe thead th {\n",
       "        text-align: right;\n",
       "    }\n",
       "</style>\n",
       "<table border=\"1\" class=\"dataframe\">\n",
       "  <thead>\n",
       "    <tr style=\"text-align: right;\">\n",
       "      <th></th>\n",
       "      <th>Count</th>\n",
       "    </tr>\n",
       "  </thead>\n",
       "  <tbody>\n",
       "    <tr>\n",
       "      <th>i</th>\n",
       "      <td>74980</td>\n",
       "    </tr>\n",
       "    <tr>\n",
       "      <th>to</th>\n",
       "      <td>56329</td>\n",
       "    </tr>\n",
       "    <tr>\n",
       "      <th>the</th>\n",
       "      <td>51708</td>\n",
       "    </tr>\n",
       "    <tr>\n",
       "      <th>a</th>\n",
       "      <td>37950</td>\n",
       "    </tr>\n",
       "    <tr>\n",
       "      <th>my</th>\n",
       "      <td>31680</td>\n",
       "    </tr>\n",
       "    <tr>\n",
       "      <th>and</th>\n",
       "      <td>30083</td>\n",
       "    </tr>\n",
       "    <tr>\n",
       "      <th>you</th>\n",
       "      <td>26978</td>\n",
       "    </tr>\n",
       "    <tr>\n",
       "      <th>is</th>\n",
       "      <td>23724</td>\n",
       "    </tr>\n",
       "    <tr>\n",
       "      <th>it</th>\n",
       "      <td>23179</td>\n",
       "    </tr>\n",
       "    <tr>\n",
       "      <th>for</th>\n",
       "      <td>21696</td>\n",
       "    </tr>\n",
       "    <tr>\n",
       "      <th>in</th>\n",
       "      <td>21485</td>\n",
       "    </tr>\n",
       "    <tr>\n",
       "      <th>of</th>\n",
       "      <td>18419</td>\n",
       "    </tr>\n",
       "    <tr>\n",
       "      <th>im</th>\n",
       "      <td>17735</td>\n",
       "    </tr>\n",
       "    <tr>\n",
       "      <th>on</th>\n",
       "      <td>16849</td>\n",
       "    </tr>\n",
       "    <tr>\n",
       "      <th>me</th>\n",
       "      <td>16005</td>\n",
       "    </tr>\n",
       "    <tr>\n",
       "      <th>so</th>\n",
       "      <td>15056</td>\n",
       "    </tr>\n",
       "    <tr>\n",
       "      <th>have</th>\n",
       "      <td>14437</td>\n",
       "    </tr>\n",
       "    <tr>\n",
       "      <th>that</th>\n",
       "      <td>14138</td>\n",
       "    </tr>\n",
       "    <tr>\n",
       "      <th>but</th>\n",
       "      <td>12723</td>\n",
       "    </tr>\n",
       "    <tr>\n",
       "      <th>just</th>\n",
       "      <td>12714</td>\n",
       "    </tr>\n",
       "  </tbody>\n",
       "</table>\n",
       "</div>"
      ],
      "text/plain": [
       "      Count\n",
       "i     74980\n",
       "to    56329\n",
       "the   51708\n",
       "a     37950\n",
       "my    31680\n",
       "and   30083\n",
       "you   26978\n",
       "is    23724\n",
       "it    23179\n",
       "for   21696\n",
       "in    21485\n",
       "of    18419\n",
       "im    17735\n",
       "on    16849\n",
       "me    16005\n",
       "so    15056\n",
       "have  14437\n",
       "that  14138\n",
       "but   12723\n",
       "just  12714"
      ]
     },
     "execution_count": 10,
     "metadata": {},
     "output_type": "execute_result"
    }
   ],
   "source": [
    "def to_TF(tweets):\n",
    "    import pandas as pd\n",
    "    import nltk\n",
    "    tweets = list(map(lambda t: nltk.regexp_tokenize(t, r'\\S+'), tweets))\n",
    "    tweets = [w for l in tweets for w in l]\n",
    "\n",
    "    ## Compute the frequency distribution of the words as a dictionary\n",
    "    fdist = nltk.FreqDist(tweets) \n",
    "    ## Convert the dictionary to a dataframe contaning the words and\n",
    "    ## counts indexed by the words, and then take the transpose.\n",
    "    count_frame = pd.DataFrame(fdist, index =[0]).T\n",
    "    count_frame.columns = ['Count']\n",
    "    return(count_frame.sort_values('Count', ascending = False))\n",
    " \n",
    "wf = to_TF(tweets)\n",
    "wf.head(n = 20)"
   ]
  },
  {
   "cell_type": "markdown",
   "metadata": {},
   "source": [
    "Notice that the most frequent words are in the head of this data frame. Of these 20 most frequent words none are likely to convey much information on sentiment.  \n",
    "\n",
    "The code in the cell below, creates a bar plot of word frequency for the most common 60 words. "
   ]
  },
  {
   "cell_type": "code",
   "execution_count": 11,
   "metadata": {},
   "outputs": [
    {
     "data": {
      "image/png": "[encoded data removed]",
      "text/plain": [
       "<Figure size 864x648 with 1 Axes>"
      ]
     },
     "metadata": {
      "needs_background": "light"
     },
     "output_type": "display_data"
    },
    {
     "data": {
      "text/plain": [
       "'Done'"
      ]
     },
     "execution_count": 11,
     "metadata": {},
     "output_type": "execute_result"
    }
   ],
   "source": [
    "def wf_bar(wf):\n",
    "    import matplotlib.pyplot as plt\n",
    "    ## Barplot of the most fequent words.   \n",
    "    fig = plt.figure(figsize=(12, 9))\n",
    "    ax = fig.gca()    \n",
    "    wf['Count'][:60].plot(kind = 'bar', ax = ax)\n",
    "    ax.set_title('Frequency of the most common words')\n",
    "    ax.set_ylabel('Frequency of word')\n",
    "    ax.set_xlabel('Word')\n",
    "    plt.show()\n",
    "    return 'Done'\n",
    "wf_bar(wf)"
   ]
  },
  {
   "cell_type": "markdown",
   "metadata": {},
   "source": [
    "Examine this plot and notice the most frequent words. Many of the most frequent words are stop words, such as \"ÃÂthe\", \"and\", and \"you\", which are not likely to be helpful in determining sentiment. Also, the frequency of the words drops off fairly quickly to less than 500 out of the 160,000 tweets.\n",
    "\n",
    "Another tool for examining the frequency of words in a corpus of documents is the cumulative distribution frequency (CDF) plot. Execute the code in the cell below to compute and display a bar plot of the cumulative frequencies of the words."
   ]
  },
  {
   "cell_type": "code",
   "execution_count": 12,
   "metadata": {},
   "outputs": [
    {
     "data": {
      "image/png": "[encoded data removed]",
      "text/plain": [
       "<Figure size 864x648 with 1 Axes>"
      ]
     },
     "metadata": {
      "needs_background": "light"
     },
     "output_type": "display_data"
    },
    {
     "data": {
      "text/plain": [
       "'Done'"
      ]
     },
     "execution_count": 12,
     "metadata": {},
     "output_type": "execute_result"
    }
   ],
   "source": [
    "def plot_cfd(wf):\n",
    "    import matplotlib.pyplot as plt\n",
    "    ## Compute the relative cumulative frequency of the words in \n",
    "    ## descending order of frequency and add the dataframe.   \n",
    "    word_count = float(wf['Count'].sum(axis = 0))   \n",
    "    wf['Cum'] = wf['Count'].cumsum(axis = 0)\n",
    "    wf['Cum'] = wf['Cum'].divide(word_count)\n",
    "    \n",
    "    ## Barplot the cumulative frequency for the most frequent words.   \n",
    "    fig = plt.figure(figsize=(12, 9))\n",
    "    ax = fig.gca()    \n",
    "    wf['Cum'][:60].plot(kind = 'bar', ax = ax)\n",
    "    ax.set_title('Cumulative fraction of total words vs. words')\n",
    "    ax.set_ylabel('Cumulative fraction')\n",
    "    ax.set_xlabel('Word')\n",
    "    plt.show()\n",
    "    return 'Done'\n",
    "\n",
    "\n",
    "plot_cfd(wf)"
   ]
  },
  {
   "cell_type": "markdown",
   "metadata": {},
   "source": [
    "The conclusions one can draw from the second chart are largely the same as the first. The most frequent words are stop words and the frequency of words drops off rather quickly. Also notice, that the frequency of the words becomes uniform fairly quickly. \n",
    "\n",
    "****\n",
    "\n",
    "You will now examine the head of the resulting word frequency data frame to determine the following:\n",
    "- What is the percentage of all words for these first 20 words?\n",
    "- Of these 20 words, how many are likely to contibute sentiment information?\n",
    "- Are these 20 words different from the words seen for the raw text?\n",
    "\n",
    "To perform this exercise, apply the Pandas **head** method, with **n = 20**, to the wf data frame.\n",
    "\n"
   ]
  },
  {
   "cell_type": "code",
   "execution_count": 13,
   "metadata": {},
   "outputs": [
    {
     "data": {
      "text/html": [
       "<div>\n",
       "<style scoped>\n",
       "    .dataframe tbody tr th:only-of-type {\n",
       "        vertical-align: middle;\n",
       "    }\n",
       "\n",
       "    .dataframe tbody tr th {\n",
       "        vertical-align: top;\n",
       "    }\n",
       "\n",
       "    .dataframe thead th {\n",
       "        text-align: right;\n",
       "    }\n",
       "</style>\n",
       "<table border=\"1\" class=\"dataframe\">\n",
       "  <thead>\n",
       "    <tr style=\"text-align: right;\">\n",
       "      <th></th>\n",
       "      <th>Count</th>\n",
       "      <th>Cum</th>\n",
       "    </tr>\n",
       "  </thead>\n",
       "  <tbody>\n",
       "    <tr>\n",
       "      <th>i</th>\n",
       "      <td>74980</td>\n",
       "      <td>0.036216</td>\n",
       "    </tr>\n",
       "    <tr>\n",
       "      <th>to</th>\n",
       "      <td>56329</td>\n",
       "      <td>0.063423</td>\n",
       "    </tr>\n",
       "    <tr>\n",
       "      <th>the</th>\n",
       "      <td>51708</td>\n",
       "      <td>0.088398</td>\n",
       "    </tr>\n",
       "    <tr>\n",
       "      <th>a</th>\n",
       "      <td>37950</td>\n",
       "      <td>0.106728</td>\n",
       "    </tr>\n",
       "    <tr>\n",
       "      <th>my</th>\n",
       "      <td>31680</td>\n",
       "      <td>0.122030</td>\n",
       "    </tr>\n",
       "    <tr>\n",
       "      <th>and</th>\n",
       "      <td>30083</td>\n",
       "      <td>0.136560</td>\n",
       "    </tr>\n",
       "    <tr>\n",
       "      <th>you</th>\n",
       "      <td>26978</td>\n",
       "      <td>0.149590</td>\n",
       "    </tr>\n",
       "    <tr>\n",
       "      <th>is</th>\n",
       "      <td>23724</td>\n",
       "      <td>0.161049</td>\n",
       "    </tr>\n",
       "    <tr>\n",
       "      <th>it</th>\n",
       "      <td>23179</td>\n",
       "      <td>0.172245</td>\n",
       "    </tr>\n",
       "    <tr>\n",
       "      <th>for</th>\n",
       "      <td>21696</td>\n",
       "      <td>0.182724</td>\n",
       "    </tr>\n",
       "    <tr>\n",
       "      <th>in</th>\n",
       "      <td>21485</td>\n",
       "      <td>0.193101</td>\n",
       "    </tr>\n",
       "    <tr>\n",
       "      <th>of</th>\n",
       "      <td>18419</td>\n",
       "      <td>0.201998</td>\n",
       "    </tr>\n",
       "    <tr>\n",
       "      <th>im</th>\n",
       "      <td>17735</td>\n",
       "      <td>0.210564</td>\n",
       "    </tr>\n",
       "    <tr>\n",
       "      <th>on</th>\n",
       "      <td>16849</td>\n",
       "      <td>0.218702</td>\n",
       "    </tr>\n",
       "    <tr>\n",
       "      <th>me</th>\n",
       "      <td>16005</td>\n",
       "      <td>0.226432</td>\n",
       "    </tr>\n",
       "    <tr>\n",
       "      <th>so</th>\n",
       "      <td>15056</td>\n",
       "      <td>0.233704</td>\n",
       "    </tr>\n",
       "    <tr>\n",
       "      <th>have</th>\n",
       "      <td>14437</td>\n",
       "      <td>0.240678</td>\n",
       "    </tr>\n",
       "    <tr>\n",
       "      <th>that</th>\n",
       "      <td>14138</td>\n",
       "      <td>0.247506</td>\n",
       "    </tr>\n",
       "    <tr>\n",
       "      <th>but</th>\n",
       "      <td>12723</td>\n",
       "      <td>0.253652</td>\n",
       "    </tr>\n",
       "    <tr>\n",
       "      <th>just</th>\n",
       "      <td>12714</td>\n",
       "      <td>0.259792</td>\n",
       "    </tr>\n",
       "  </tbody>\n",
       "</table>\n",
       "</div>"
      ],
      "text/plain": [
       "      Count       Cum\n",
       "i     74980  0.036216\n",
       "to    56329  0.063423\n",
       "the   51708  0.088398\n",
       "a     37950  0.106728\n",
       "my    31680  0.122030\n",
       "and   30083  0.136560\n",
       "you   26978  0.149590\n",
       "is    23724  0.161049\n",
       "it    23179  0.172245\n",
       "for   21696  0.182724\n",
       "in    21485  0.193101\n",
       "of    18419  0.201998\n",
       "im    17735  0.210564\n",
       "on    16849  0.218702\n",
       "me    16005  0.226432\n",
       "so    15056  0.233704\n",
       "have  14437  0.240678\n",
       "that  14138  0.247506\n",
       "but   12723  0.253652\n",
       "just  12714  0.259792"
      ]
     },
     "execution_count": 13,
     "metadata": {},
     "output_type": "execute_result"
    }
   ],
   "source": [
    "wf.head(n = 20)"
   ]
  },
  {
   "cell_type": "markdown",
   "metadata": {},
   "source": [
    "## Remove stop words\n",
    "\n",
    "In the previous section you removed extraneous characters and whitespace from the tweet text. The results show that the most frequent words do not communicate much sentiment information. These frequent words, which are largely extraneous, are known as stop words and should be removed from the text before further analysis. In this exercise you will use custom Python code to remove stop words from the tweet text.\n",
    "\n",
    "As a first step you will load the list of stop words, and examine the first 100 by executing the code in the cell below. "
   ]
  },
  {
   "cell_type": "code",
   "execution_count": 15,
   "metadata": {},
   "outputs": [
    {
     "data": {
      "text/plain": [
       "['a',\n",
       " 'about',\n",
       " 'above',\n",
       " 'actual',\n",
       " 'after',\n",
       " 'again',\n",
       " 'against',\n",
       " 'all',\n",
       " 'alreadi',\n",
       " 'also',\n",
       " 'alway',\n",
       " 'am',\n",
       " 'amp',\n",
       " 'an',\n",
       " 'and',\n",
       " 'ani',\n",
       " 'anoth',\n",
       " 'any',\n",
       " 'anyth',\n",
       " 'are']"
      ]
     },
     "execution_count": 15,
     "metadata": {},
     "output_type": "execute_result"
    }
   ],
   "source": [
    "stop_words = pd.read_csv('stopwords.csv')\n",
    "stop_words = [w for w in stop_words.words if w in stop_words.words.unique() ]\n",
    "stop_words[:20]"
   ]
  },
  {
   "cell_type": "markdown",
   "metadata": {},
   "source": [
    "Execute the code in the cell below to remove the stop words from each tweet using nested list comprehensions. "
   ]
  },
  {
   "cell_type": "code",
   "execution_count": 16,
   "metadata": {},
   "outputs": [],
   "source": [
    "temp = [tweet.split() for tweet in tweets] ## Split tweets into tokens\n",
    "tweets = [' '.join([word for word in tweet if word not in set(stop_words)]) for tweet in temp]"
   ]
  },
  {
   "cell_type": "markdown",
   "metadata": {},
   "source": [
    "Execute the code in the cell below to visualize the word frequency."
   ]
  },
  {
   "cell_type": "code",
   "execution_count": 17,
   "metadata": {},
   "outputs": [
    {
     "data": {
      "image/png": "[encoded data removed]",
      "text/plain": [
       "<Figure size 864x648 with 1 Axes>"
      ]
     },
     "metadata": {
      "needs_background": "light"
     },
     "output_type": "display_data"
    },
    {
     "data": {
      "text/plain": [
       "'Done'"
      ]
     },
     "execution_count": 17,
     "metadata": {},
     "output_type": "execute_result"
    }
   ],
   "source": [
    "wf = to_TF(tweets)\n",
    "wf_bar(wf)"
   ]
  },
  {
   "cell_type": "markdown",
   "metadata": {},
   "source": [
    "The distribution of word frequency is not quite different. Note that many of the most frequent words are now likely to convey some sentiment, such as \"good\", \"like\", and \"love\". Evidently, removing stop words has had the desired effect.\n",
    "\n",
    "Next, execute the code in the cell below to display the CDF of the tweets with the stop words removed. "
   ]
  },
  {
   "cell_type": "code",
   "execution_count": 18,
   "metadata": {},
   "outputs": [
    {
     "data": {
      "image/png": "[encoded data removed]",
      "text/plain": [
       "<Figure size 864x648 with 1 Axes>"
      ]
     },
     "metadata": {
      "needs_background": "light"
     },
     "output_type": "display_data"
    },
    {
     "data": {
      "text/plain": [
       "'Done'"
      ]
     },
     "execution_count": 18,
     "metadata": {},
     "output_type": "execute_result"
    }
   ],
   "source": [
    "plot_cfd(wf)"
   ]
  },
  {
   "cell_type": "markdown",
   "metadata": {},
   "source": [
    "As before, this chart shows a number of frequent words which are likely to convey sentiment. However, note that these 60 most frequent words only make up about 17% or the total.\n",
    "\n",
    "****\n",
    "\n",
    "You will now examine the head of the resulting word frequency data frame to determine the following:\n",
    "\n",
    "- What is the percentage of all words for these first 20 words? \n",
    "- Of these 20 words, how many are likely to contribute sentiment information? \n",
    "- Are these 20 words different from the words seen for the normalized text? \n",
    "\n",
    "To perform this exercise, apply the Pandas **head** method, with **n = 20**, to the wf data frame.\n",
    "****"
   ]
  },
  {
   "cell_type": "code",
   "execution_count": 19,
   "metadata": {},
   "outputs": [
    {
     "data": {
      "text/html": [
       "<div>\n",
       "<style scoped>\n",
       "    .dataframe tbody tr th:only-of-type {\n",
       "        vertical-align: middle;\n",
       "    }\n",
       "\n",
       "    .dataframe tbody tr th {\n",
       "        vertical-align: top;\n",
       "    }\n",
       "\n",
       "    .dataframe thead th {\n",
       "        text-align: right;\n",
       "    }\n",
       "</style>\n",
       "<table border=\"1\" class=\"dataframe\">\n",
       "  <thead>\n",
       "    <tr style=\"text-align: right;\">\n",
       "      <th></th>\n",
       "      <th>Count</th>\n",
       "      <th>Cum</th>\n",
       "    </tr>\n",
       "  </thead>\n",
       "  <tbody>\n",
       "    <tr>\n",
       "      <th>good</th>\n",
       "      <td>9133</td>\n",
       "      <td>0.009602</td>\n",
       "    </tr>\n",
       "    <tr>\n",
       "      <th>like</th>\n",
       "      <td>7796</td>\n",
       "      <td>0.017799</td>\n",
       "    </tr>\n",
       "    <tr>\n",
       "      <th>go</th>\n",
       "      <td>7320</td>\n",
       "      <td>0.025495</td>\n",
       "    </tr>\n",
       "    <tr>\n",
       "      <th>going</th>\n",
       "      <td>6407</td>\n",
       "      <td>0.032231</td>\n",
       "    </tr>\n",
       "    <tr>\n",
       "      <th>love</th>\n",
       "      <td>6269</td>\n",
       "      <td>0.038822</td>\n",
       "    </tr>\n",
       "    <tr>\n",
       "      <th>lol</th>\n",
       "      <td>5517</td>\n",
       "      <td>0.044623</td>\n",
       "    </tr>\n",
       "    <tr>\n",
       "      <th>really</th>\n",
       "      <td>4888</td>\n",
       "      <td>0.049762</td>\n",
       "    </tr>\n",
       "    <tr>\n",
       "      <th>well</th>\n",
       "      <td>4474</td>\n",
       "      <td>0.054466</td>\n",
       "    </tr>\n",
       "    <tr>\n",
       "      <th>thanks</th>\n",
       "      <td>3927</td>\n",
       "      <td>0.058595</td>\n",
       "    </tr>\n",
       "    <tr>\n",
       "      <th>oh</th>\n",
       "      <td>3843</td>\n",
       "      <td>0.062635</td>\n",
       "    </tr>\n",
       "    <tr>\n",
       "      <th>miss</th>\n",
       "      <td>3564</td>\n",
       "      <td>0.066382</td>\n",
       "    </tr>\n",
       "    <tr>\n",
       "      <th>hope</th>\n",
       "      <td>3408</td>\n",
       "      <td>0.069966</td>\n",
       "    </tr>\n",
       "    <tr>\n",
       "      <th>morning</th>\n",
       "      <td>3397</td>\n",
       "      <td>0.073537</td>\n",
       "    </tr>\n",
       "    <tr>\n",
       "      <th>great</th>\n",
       "      <td>3269</td>\n",
       "      <td>0.076974</td>\n",
       "    </tr>\n",
       "    <tr>\n",
       "      <th>ill</th>\n",
       "      <td>3220</td>\n",
       "      <td>0.080360</td>\n",
       "    </tr>\n",
       "    <tr>\n",
       "      <th>thats</th>\n",
       "      <td>3076</td>\n",
       "      <td>0.083594</td>\n",
       "    </tr>\n",
       "    <tr>\n",
       "      <th>haha</th>\n",
       "      <td>3013</td>\n",
       "      <td>0.086761</td>\n",
       "    </tr>\n",
       "    <tr>\n",
       "      <th>sad</th>\n",
       "      <td>2814</td>\n",
       "      <td>0.089720</td>\n",
       "    </tr>\n",
       "    <tr>\n",
       "      <th>wish</th>\n",
       "      <td>2763</td>\n",
       "      <td>0.092625</td>\n",
       "    </tr>\n",
       "    <tr>\n",
       "      <th>fun</th>\n",
       "      <td>2752</td>\n",
       "      <td>0.095518</td>\n",
       "    </tr>\n",
       "  </tbody>\n",
       "</table>\n",
       "</div>"
      ],
      "text/plain": [
       "         Count       Cum\n",
       "good      9133  0.009602\n",
       "like      7796  0.017799\n",
       "go        7320  0.025495\n",
       "going     6407  0.032231\n",
       "love      6269  0.038822\n",
       "lol       5517  0.044623\n",
       "really    4888  0.049762\n",
       "well      4474  0.054466\n",
       "thanks    3927  0.058595\n",
       "oh        3843  0.062635\n",
       "miss      3564  0.066382\n",
       "hope      3408  0.069966\n",
       "morning   3397  0.073537\n",
       "great     3269  0.076974\n",
       "ill       3220  0.080360\n",
       "thats     3076  0.083594\n",
       "haha      3013  0.086761\n",
       "sad       2814  0.089720\n",
       "wish      2763  0.092625\n",
       "fun       2752  0.095518"
      ]
     },
     "execution_count": 19,
     "metadata": {},
     "output_type": "execute_result"
    }
   ],
   "source": [
    "wf.head(n = 20)"
   ]
  },
  {
   "cell_type": "markdown",
   "metadata": {},
   "source": [
    "## Stem the Words\n",
    "\n",
    "You have cleaned the tweet text and removed stop words. There is one last data preparation step required, stemming the words. Stemming is a process of reducing words to their stems or roots. For example, conjugated verbs such as \"goes\", \"going\", and \"gone\" are stemmed to the word \"go\".  Both Python and R offer a choice of stemmers. Depending on this choice, the results can be more or less suitable for the application. In this case, you will use the popular Porter stemmer. \n",
    "\n",
    "The Porter stemmer used by the **PorterStemmer** function in the **nltk.stem.porter** library. Execute the code in the cell below to load and apply the Porter stemmer to the tweet text and display the first few tweets with stemmed words."
   ]
  },
  {
   "cell_type": "code",
   "execution_count": 20,
   "metadata": {},
   "outputs": [
    {
     "data": {
      "text/plain": [
       "['elephantbird dear happi alreadi rice bowl',\n",
       " 'ughhh layin downnnn wait zeina cook breakfast',\n",
       " 'greeniebach reckon hell he noth wont without',\n",
       " 'valewe news',\n",
       " 'sad httpwwwfabchannelcom close web servic ive use year',\n",
       " 'fearnecotton sing rememb alwaysss radio catch artist',\n",
       " 'god ur side anyth possibl',\n",
       " 'lovesmr stupid',\n",
       " 'delv gut express engin flexibl cm dev great client',\n",
       " 'emoskank awww']"
      ]
     },
     "execution_count": 20,
     "metadata": {},
     "output_type": "execute_result"
    }
   ],
   "source": [
    "from nltk.stem.porter import PorterStemmer\n",
    "porter_stemmer = PorterStemmer()\n",
    "temp = [tweet.split() for tweet in tweets] ## Split tweets into tokens\n",
    "temp = map(lambda t: [porter_stemmer.stem(w) for w in t], temp)\n",
    "tweets = [' '.join(tweet) for tweet in temp] ## Join the words of the tweet string\n",
    "tweets[:10]\n"
   ]
  },
  {
   "cell_type": "markdown",
   "metadata": {},
   "source": [
    "Compare the text in the tweets to the text for the normalized text. Notice that there are fewer words in these tweets following the removal of stop words. Also, words like 'happy' have been stemmed to 'happi'.  This text is now ready for analysis!\n",
    "\n",
    "To display the bar plot of the word frequency, execute the code in the cell below."
   ]
  },
  {
   "cell_type": "code",
   "execution_count": 21,
   "metadata": {},
   "outputs": [
    {
     "data": {
      "image/png": "[encoded data removed]",
      "text/plain": [
       "<Figure size 864x648 with 1 Axes>"
      ]
     },
     "metadata": {
      "needs_background": "light"
     },
     "output_type": "display_data"
    },
    {
     "data": {
      "text/plain": [
       "'Done'"
      ]
     },
     "execution_count": 21,
     "metadata": {},
     "output_type": "execute_result"
    }
   ],
   "source": [
    "wf = to_TF(tweets)\n",
    "wf_bar(wf)"
   ]
  },
  {
   "cell_type": "markdown",
   "metadata": {},
   "source": [
    "To display the CDF plot of the word frequency, execute the code in the cell below."
   ]
  },
  {
   "cell_type": "code",
   "execution_count": 22,
   "metadata": {},
   "outputs": [
    {
     "data": {
      "image/png": "[encoded data removed]",
      "text/plain": [
       "<Figure size 864x648 with 1 Axes>"
      ]
     },
     "metadata": {
      "needs_background": "light"
     },
     "output_type": "display_data"
    },
    {
     "data": {
      "text/plain": [
       "'Done'"
      ]
     },
     "execution_count": 22,
     "metadata": {},
     "output_type": "execute_result"
    }
   ],
   "source": [
    "plot_cfd(wf)"
   ]
  },
  {
   "cell_type": "markdown",
   "metadata": {
    "collapsed": true
   },
   "source": [
    "Compare these two charts using the stemmed words to the charts created with just stop word filtering and notice the differences. These differences are quite noticeable. For example, some words like \"good\" and \"like\" have moved higher in the order of most frequent words, while some other words like \"going\" have moved down. "
   ]
  },
  {
   "cell_type": "markdown",
   "metadata": {},
   "source": [
    "****\n",
    "\n",
    "You will now examine the head of the resulting word frequency data frame to determine the following:\n",
    "\n",
    "- Have any of the words in the list been stemmed? \n",
    "- Has the stemming changed the frequency of these words?\n",
    "\n",
    "To perform this exercise, apply the Pandas **head** method, with **n = 20**, to the wf data frame.\n",
    "****"
   ]
  },
  {
   "cell_type": "code",
   "execution_count": 23,
   "metadata": {},
   "outputs": [
    {
     "data": {
      "text/html": [
       "<div>\n",
       "<style scoped>\n",
       "    .dataframe tbody tr th:only-of-type {\n",
       "        vertical-align: middle;\n",
       "    }\n",
       "\n",
       "    .dataframe tbody tr th {\n",
       "        vertical-align: top;\n",
       "    }\n",
       "\n",
       "    .dataframe thead th {\n",
       "        text-align: right;\n",
       "    }\n",
       "</style>\n",
       "<table border=\"1\" class=\"dataframe\">\n",
       "  <thead>\n",
       "    <tr style=\"text-align: right;\">\n",
       "      <th></th>\n",
       "      <th>Count</th>\n",
       "      <th>Cum</th>\n",
       "    </tr>\n",
       "  </thead>\n",
       "  <tbody>\n",
       "    <tr>\n",
       "      <th>go</th>\n",
       "      <td>13729</td>\n",
       "      <td>0.014434</td>\n",
       "    </tr>\n",
       "    <tr>\n",
       "      <th>good</th>\n",
       "      <td>9268</td>\n",
       "      <td>0.024179</td>\n",
       "    </tr>\n",
       "    <tr>\n",
       "      <th>like</th>\n",
       "      <td>8275</td>\n",
       "      <td>0.032879</td>\n",
       "    </tr>\n",
       "    <tr>\n",
       "      <th>love</th>\n",
       "      <td>8054</td>\n",
       "      <td>0.041347</td>\n",
       "    </tr>\n",
       "    <tr>\n",
       "      <th>miss</th>\n",
       "      <td>5537</td>\n",
       "      <td>0.047168</td>\n",
       "    </tr>\n",
       "    <tr>\n",
       "      <th>lol</th>\n",
       "      <td>5537</td>\n",
       "      <td>0.052990</td>\n",
       "    </tr>\n",
       "    <tr>\n",
       "      <th>realli</th>\n",
       "      <td>4888</td>\n",
       "      <td>0.058129</td>\n",
       "    </tr>\n",
       "    <tr>\n",
       "      <th>well</th>\n",
       "      <td>4492</td>\n",
       "      <td>0.062852</td>\n",
       "    </tr>\n",
       "    <tr>\n",
       "      <th>hope</th>\n",
       "      <td>4491</td>\n",
       "      <td>0.067574</td>\n",
       "    </tr>\n",
       "    <tr>\n",
       "      <th>thank</th>\n",
       "      <td>4010</td>\n",
       "      <td>0.071790</td>\n",
       "    </tr>\n",
       "    <tr>\n",
       "      <th>oh</th>\n",
       "      <td>3846</td>\n",
       "      <td>0.075833</td>\n",
       "    </tr>\n",
       "    <tr>\n",
       "      <th>morn</th>\n",
       "      <td>3464</td>\n",
       "      <td>0.079475</td>\n",
       "    </tr>\n",
       "    <tr>\n",
       "      <th>great</th>\n",
       "      <td>3286</td>\n",
       "      <td>0.082930</td>\n",
       "    </tr>\n",
       "    <tr>\n",
       "      <th>wish</th>\n",
       "      <td>3274</td>\n",
       "      <td>0.086372</td>\n",
       "    </tr>\n",
       "    <tr>\n",
       "      <th>ill</th>\n",
       "      <td>3240</td>\n",
       "      <td>0.089779</td>\n",
       "    </tr>\n",
       "    <tr>\n",
       "      <th>that</th>\n",
       "      <td>3076</td>\n",
       "      <td>0.093013</td>\n",
       "    </tr>\n",
       "    <tr>\n",
       "      <th>haha</th>\n",
       "      <td>3013</td>\n",
       "      <td>0.096181</td>\n",
       "    </tr>\n",
       "    <tr>\n",
       "      <th>get</th>\n",
       "      <td>2890</td>\n",
       "      <td>0.099219</td>\n",
       "    </tr>\n",
       "    <tr>\n",
       "      <th>sad</th>\n",
       "      <td>2867</td>\n",
       "      <td>0.102234</td>\n",
       "    </tr>\n",
       "    <tr>\n",
       "      <th>watch</th>\n",
       "      <td>2793</td>\n",
       "      <td>0.105170</td>\n",
       "    </tr>\n",
       "  </tbody>\n",
       "</table>\n",
       "</div>"
      ],
      "text/plain": [
       "        Count       Cum\n",
       "go      13729  0.014434\n",
       "good     9268  0.024179\n",
       "like     8275  0.032879\n",
       "love     8054  0.041347\n",
       "miss     5537  0.047168\n",
       "lol      5537  0.052990\n",
       "realli   4888  0.058129\n",
       "well     4492  0.062852\n",
       "hope     4491  0.067574\n",
       "thank    4010  0.071790\n",
       "oh       3846  0.075833\n",
       "morn     3464  0.079475\n",
       "great    3286  0.082930\n",
       "wish     3274  0.086372\n",
       "ill      3240  0.089779\n",
       "that     3076  0.093013\n",
       "haha     3013  0.096181\n",
       "get      2890  0.099219\n",
       "sad      2867  0.102234\n",
       "watch    2793  0.105170"
      ]
     },
     "execution_count": 23,
     "metadata": {},
     "output_type": "execute_result"
    }
   ],
   "source": [
    "wf.head(n = 20)"
   ]
  },
  {
   "cell_type": "code",
   "execution_count": null,
   "metadata": {},
   "outputs": [],
   "source": []
  }
 ],
 "metadata": {
  "kernelspec": {
   "display_name": "Python 3",
   "language": "python",
   "name": "python3"
  },
  "language_info": {
   "codemirror_mode": {
    "name": "ipython",
    "version": 3
   },
   "file_extension": ".py",
   "mimetype": "text/x-python",
   "name": "python",
   "nbconvert_exporter": "python",
   "pygments_lexer": "ipython3",
   "version": "3.6.8"
  }
 },
 "nbformat": 4,
 "nbformat_minor": 1
}
